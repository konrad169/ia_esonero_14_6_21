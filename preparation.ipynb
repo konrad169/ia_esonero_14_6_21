{
 "cells": [
  {
   "cell_type": "code",
   "execution_count": 1,
   "metadata": {
    "collapsed": true
   },
   "outputs": [
    {
     "name": "stdout",
     "output_type": "stream",
     "text": [
      "Requirement already satisfied: scikit-learn==0.24.2 in c:\\users\\corrado\\anaconda3\\lib\\site-packages (from -r requirements.txt (line 1)) (0.24.2)\n",
      "Requirement already satisfied: matplotlib==3.4.2 in c:\\users\\corrado\\anaconda3\\lib\\site-packages (from -r requirements.txt (line 2)) (3.4.2)\n",
      "Requirement already satisfied: pandas==1.2.4 in c:\\users\\corrado\\anaconda3\\lib\\site-packages (from -r requirements.txt (line 3)) (1.2.4)\n",
      "Requirement already satisfied: numpy==1.19.5 in c:\\users\\corrado\\anaconda3\\lib\\site-packages (from -r requirements.txt (line 4)) (1.19.5)\n",
      "Requirement already satisfied: seaborn==0.11.1 in c:\\users\\corrado\\anaconda3\\lib\\site-packages (from -r requirements.txt (line 5)) (0.11.1)\n",
      "Requirement already satisfied: scipy>=0.19.1 in c:\\users\\corrado\\anaconda3\\lib\\site-packages (from scikit-learn==0.24.2->-r requirements.txt (line 1)) (1.6.2)\n",
      "Requirement already satisfied: threadpoolctl>=2.0.0 in c:\\users\\corrado\\anaconda3\\lib\\site-packages (from scikit-learn==0.24.2->-r requirements.txt (line 1)) (2.1.0)\n",
      "Requirement already satisfied: joblib>=0.11 in c:\\users\\corrado\\anaconda3\\lib\\site-packages (from scikit-learn==0.24.2->-r requirements.txt (line 1)) (1.0.1)\n",
      "Requirement already satisfied: kiwisolver>=1.0.1 in c:\\users\\corrado\\anaconda3\\lib\\site-packages (from matplotlib==3.4.2->-r requirements.txt (line 2)) (1.3.1)\n",
      "Requirement already satisfied: pillow>=6.2.0 in c:\\users\\corrado\\anaconda3\\lib\\site-packages (from matplotlib==3.4.2->-r requirements.txt (line 2)) (8.2.0)\n",
      "Requirement already satisfied: pyparsing>=2.2.1 in c:\\users\\corrado\\anaconda3\\lib\\site-packages (from matplotlib==3.4.2->-r requirements.txt (line 2)) (2.4.7)\n",
      "Requirement already satisfied: cycler>=0.10 in c:\\users\\corrado\\anaconda3\\lib\\site-packages (from matplotlib==3.4.2->-r requirements.txt (line 2)) (0.10.0)\n",
      "Requirement already satisfied: python-dateutil>=2.7 in c:\\users\\corrado\\anaconda3\\lib\\site-packages (from matplotlib==3.4.2->-r requirements.txt (line 2)) (2.8.1)\n",
      "Requirement already satisfied: pytz>=2017.3 in c:\\users\\corrado\\anaconda3\\lib\\site-packages (from pandas==1.2.4->-r requirements.txt (line 3)) (2021.1)\n",
      "Requirement already satisfied: six in c:\\users\\corrado\\anaconda3\\lib\\site-packages (from cycler>=0.10->matplotlib==3.4.2->-r requirements.txt (line 2)) (1.15.0)\n"
     ]
    }
   ],
   "source": [
    "!pip install -r requirements.txt"
   ]
  },
  {
   "cell_type": "code",
   "execution_count": 2,
   "outputs": [
    {
     "name": "stderr",
     "output_type": "stream",
     "text": [
      "C:\\Users\\Corrado\\anaconda3\\lib\\site-packages\\numpy\\_distributor_init.py:30: UserWarning: loaded more than 1 DLL from .libs:\n",
      "C:\\Users\\Corrado\\anaconda3\\lib\\site-packages\\numpy\\.libs\\libopenblas.PYQHXLVVQ7VESDPUVUADXEVJOBGHJPAY.gfortran-win_amd64.dll\n",
      "C:\\Users\\Corrado\\anaconda3\\lib\\site-packages\\numpy\\.libs\\libopenblas.WCDJNK7YVMPZQ2ME2ZZHJJRJ3JIKNDB7.gfortran-win_amd64.dll\n",
      "  warnings.warn(\"loaded more than 1 DLL from .libs:\"\n"
     ]
    }
   ],
   "source": [
    "import pandas as pd"
   ],
   "metadata": {
    "collapsed": false,
    "pycharm": {
     "name": "#%%\n"
    }
   }
  },
  {
   "cell_type": "code",
   "execution_count": 3,
   "outputs": [
    {
     "data": {
      "text/plain": "<bound method DataFrame.info of        Winner  First_pokemon  Second_pokemon\n0         650            650             579\n1         151            151             558\n2         340            340             631\n3         139            688             139\n4         132            365             132\n...       ...            ...             ...\n39995     608            608             403\n39996     149            761             149\n39997     740            740             320\n39998     465            465             536\n39999     350            350             525\n\n[40000 rows x 3 columns]>"
     },
     "execution_count": 3,
     "metadata": {},
     "output_type": "execute_result"
    }
   ],
   "source": [
    "from sklearn.model_selection import train_test_split\n",
    "data=pd.read_csv('combats.partial.csv')\n",
    "data.info"
   ],
   "metadata": {
    "collapsed": false,
    "pycharm": {
     "name": "#%%\n"
    }
   }
  },
  {
   "cell_type": "code",
   "execution_count": 4,
   "outputs": [],
   "source": [
    "X_train,X_test=train_test_split(data,train_size=0.75,test_size=0.25,random_state=42)"
   ],
   "metadata": {
    "collapsed": false,
    "pycharm": {
     "name": "#%%\n"
    }
   }
  },
  {
   "cell_type": "code",
   "execution_count": 5,
   "outputs": [],
   "source": [
    "X_train.to_csv('train.csv')\n",
    "X_test.to_csv('test.csv')"
   ],
   "metadata": {
    "collapsed": false,
    "pycharm": {
     "name": "#%%\n"
    }
   }
  },
  {
   "cell_type": "code",
   "execution_count": 5,
   "outputs": [],
   "source": [
    "\n"
   ],
   "metadata": {
    "collapsed": false,
    "pycharm": {
     "name": "#%%\n"
    }
   }
  }
 ],
 "metadata": {
  "kernelspec": {
   "display_name": "Python 3",
   "language": "python",
   "name": "python3"
  },
  "language_info": {
   "codemirror_mode": {
    "name": "ipython",
    "version": 2
   },
   "file_extension": ".py",
   "mimetype": "text/x-python",
   "name": "python",
   "nbconvert_exporter": "python",
   "pygments_lexer": "ipython2",
   "version": "2.7.6"
  }
 },
 "nbformat": 4,
 "nbformat_minor": 0
}