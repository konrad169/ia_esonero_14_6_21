{
 "cells": [
  {
   "cell_type": "code",
   "execution_count": 1,
   "metadata": {
    "collapsed": true
   },
   "outputs": [
    {
     "name": "stdout",
     "output_type": "stream",
     "text": [
      "Requirement already satisfied: scikit-learn==0.24.2 in c:\\users\\corrado\\anaconda3\\lib\\site-packages (from -r requirements.txt (line 1)) (0.24.2)\n",
      "Requirement already satisfied: matplotlib==3.4.2 in c:\\users\\corrado\\anaconda3\\lib\\site-packages (from -r requirements.txt (line 2)) (3.4.2)\n",
      "Requirement already satisfied: pandas==1.2.4 in c:\\users\\corrado\\anaconda3\\lib\\site-packages (from -r requirements.txt (line 3)) (1.2.4)\n",
      "Requirement already satisfied: numpy==1.19.5 in c:\\users\\corrado\\anaconda3\\lib\\site-packages (from -r requirements.txt (line 4)) (1.19.5)\n",
      "Requirement already satisfied: seaborn==0.11.1 in c:\\users\\corrado\\anaconda3\\lib\\site-packages (from -r requirements.txt (line 5)) (0.11.1)\n",
      "Requirement already satisfied: threadpoolctl>=2.0.0 in c:\\users\\corrado\\anaconda3\\lib\\site-packages (from scikit-learn==0.24.2->-r requirements.txt (line 1)) (2.1.0)\n",
      "Requirement already satisfied: scipy>=0.19.1 in c:\\users\\corrado\\anaconda3\\lib\\site-packages (from scikit-learn==0.24.2->-r requirements.txt (line 1)) (1.6.2)\n",
      "Requirement already satisfied: joblib>=0.11 in c:\\users\\corrado\\anaconda3\\lib\\site-packages (from scikit-learn==0.24.2->-r requirements.txt (line 1)) (1.0.1)\n",
      "Requirement already satisfied: python-dateutil>=2.7 in c:\\users\\corrado\\anaconda3\\lib\\site-packages (from matplotlib==3.4.2->-r requirements.txt (line 2)) (2.8.1)\n",
      "Requirement already satisfied: pyparsing>=2.2.1 in c:\\users\\corrado\\anaconda3\\lib\\site-packages (from matplotlib==3.4.2->-r requirements.txt (line 2)) (2.4.7)\n",
      "Requirement already satisfied: kiwisolver>=1.0.1 in c:\\users\\corrado\\anaconda3\\lib\\site-packages (from matplotlib==3.4.2->-r requirements.txt (line 2)) (1.3.1)\n",
      "Requirement already satisfied: cycler>=0.10 in c:\\users\\corrado\\anaconda3\\lib\\site-packages (from matplotlib==3.4.2->-r requirements.txt (line 2)) (0.10.0)\n",
      "Requirement already satisfied: pillow>=6.2.0 in c:\\users\\corrado\\anaconda3\\lib\\site-packages (from matplotlib==3.4.2->-r requirements.txt (line 2)) (8.2.0)\n",
      "Requirement already satisfied: pytz>=2017.3 in c:\\users\\corrado\\anaconda3\\lib\\site-packages (from pandas==1.2.4->-r requirements.txt (line 3)) (2021.1)\n",
      "Requirement already satisfied: six in c:\\users\\corrado\\anaconda3\\lib\\site-packages (from cycler>=0.10->matplotlib==3.4.2->-r requirements.txt (line 2)) (1.15.0)\n"
     ]
    }
   ],
   "source": [
    "! pip install -r requirements.txt"
   ]
  },
  {
   "cell_type": "code",
   "execution_count": 2,
   "outputs": [
    {
     "name": "stderr",
     "output_type": "stream",
     "text": [
      "C:\\Users\\Corrado\\anaconda3\\lib\\site-packages\\numpy\\_distributor_init.py:30: UserWarning: loaded more than 1 DLL from .libs:\n",
      "C:\\Users\\Corrado\\anaconda3\\lib\\site-packages\\numpy\\.libs\\libopenblas.PYQHXLVVQ7VESDPUVUADXEVJOBGHJPAY.gfortran-win_amd64.dll\n",
      "C:\\Users\\Corrado\\anaconda3\\lib\\site-packages\\numpy\\.libs\\libopenblas.WCDJNK7YVMPZQ2ME2ZZHJJRJ3JIKNDB7.gfortran-win_amd64.dll\n",
      "  warnings.warn(\"loaded more than 1 DLL from .libs:\"\n"
     ]
    }
   ],
   "source": [
    "import pandas as pd\n",
    "import numpy as np\n",
    "import matplotlib.pyplot as plt\n",
    "import seaborn as sns"
   ],
   "metadata": {
    "collapsed": false,
    "pycharm": {
     "name": "#%%\n"
    }
   }
  },
  {
   "cell_type": "markdown",
   "source": [
    "<h2>1. Caricamento dataset e creazione dataset per fase di analisi</h2>\n",
    "<h5>In questa fase caricheremo i dataset creati nel notebook preparazione, aggiungeremo le statistiche contenute nel file pokemon.csv ed andremo a creare un dataset temporaneo che sarà utilizzato soltanto per la fase di analisi del dato. Tutte le eventuali maniopolazioni di dati che saranno eseguite prima della fase di training saranno eseguite sia sul dataset di train che su quello di test.</h5>"
   ],
   "metadata": {
    "collapsed": false,
    "pycharm": {
     "name": "#%% md\n"
    }
   }
  },
  {
   "cell_type": "code",
   "execution_count": 3,
   "outputs": [],
   "source": [
    "train_ds=pd.read_csv(\"train.csv\",index_col=0)\n",
    "test_ds=pd.read_csv(\"test.csv\",index_col=0)\n",
    "pokemon_table=pd.read_csv(\"pokemon.csv\")"
   ],
   "metadata": {
    "collapsed": false,
    "pycharm": {
     "name": "#%%\n"
    }
   }
  },
  {
   "cell_type": "code",
   "execution_count": 4,
   "outputs": [
    {
     "data": {
      "text/plain": "   Winner  First_pokemon  Second_pokemon\n0       8              8             623\n1     517            517              88\n2     563             49             563\n3     394            391             394\n4     380            380             483",
      "text/html": "<div>\n<style scoped>\n    .dataframe tbody tr th:only-of-type {\n        vertical-align: middle;\n    }\n\n    .dataframe tbody tr th {\n        vertical-align: top;\n    }\n\n    .dataframe thead th {\n        text-align: right;\n    }\n</style>\n<table border=\"1\" class=\"dataframe\">\n  <thead>\n    <tr style=\"text-align: right;\">\n      <th></th>\n      <th>Winner</th>\n      <th>First_pokemon</th>\n      <th>Second_pokemon</th>\n    </tr>\n  </thead>\n  <tbody>\n    <tr>\n      <th>0</th>\n      <td>8</td>\n      <td>8</td>\n      <td>623</td>\n    </tr>\n    <tr>\n      <th>1</th>\n      <td>517</td>\n      <td>517</td>\n      <td>88</td>\n    </tr>\n    <tr>\n      <th>2</th>\n      <td>563</td>\n      <td>49</td>\n      <td>563</td>\n    </tr>\n    <tr>\n      <th>3</th>\n      <td>394</td>\n      <td>391</td>\n      <td>394</td>\n    </tr>\n    <tr>\n      <th>4</th>\n      <td>380</td>\n      <td>380</td>\n      <td>483</td>\n    </tr>\n  </tbody>\n</table>\n</div>"
     },
     "execution_count": 4,
     "metadata": {},
     "output_type": "execute_result"
    }
   ],
   "source": [
    "#Creazione dataset per l'analisi\n",
    "analisi_ds=train_ds.append(test_ds,ignore_index=True)\n",
    "analisi_ds.head()"
   ],
   "metadata": {
    "collapsed": false,
    "pycharm": {
     "name": "#%%\n"
    }
   }
  },
  {
   "cell_type": "markdown",
   "source": [
    "<h2>2.Fase di analisi</h2>\n",
    "<h5> Effettuiamo la fase di analisi sia sul dataset appena creato, sia sulla table dei pokemon in modo da investigare i dati a disposizione<h5>"
   ],
   "metadata": {
    "collapsed": false,
    "pycharm": {
     "name": "#%% md\n"
    }
   }
  },
  {
   "cell_type": "code",
   "execution_count": 5,
   "outputs": [
    {
     "data": {
      "text/plain": "   #           Name Type 1  Type 2  HP  Attack  Defense  Sp. Atk  Sp. Def  \\\n0  1      Bulbasaur  Grass  Poison  45      49       49       65       65   \n1  2        Ivysaur  Grass  Poison  60      62       63       80       80   \n2  3       Venusaur  Grass  Poison  80      82       83      100      100   \n3  4  Mega Venusaur  Grass  Poison  80     100      123      122      120   \n4  5     Charmander   Fire     NaN  39      52       43       60       50   \n\n   Speed  Generation  Legendary  \n0     45           1      False  \n1     60           1      False  \n2     80           1      False  \n3     80           1      False  \n4     65           1      False  ",
      "text/html": "<div>\n<style scoped>\n    .dataframe tbody tr th:only-of-type {\n        vertical-align: middle;\n    }\n\n    .dataframe tbody tr th {\n        vertical-align: top;\n    }\n\n    .dataframe thead th {\n        text-align: right;\n    }\n</style>\n<table border=\"1\" class=\"dataframe\">\n  <thead>\n    <tr style=\"text-align: right;\">\n      <th></th>\n      <th>#</th>\n      <th>Name</th>\n      <th>Type 1</th>\n      <th>Type 2</th>\n      <th>HP</th>\n      <th>Attack</th>\n      <th>Defense</th>\n      <th>Sp. Atk</th>\n      <th>Sp. Def</th>\n      <th>Speed</th>\n      <th>Generation</th>\n      <th>Legendary</th>\n    </tr>\n  </thead>\n  <tbody>\n    <tr>\n      <th>0</th>\n      <td>1</td>\n      <td>Bulbasaur</td>\n      <td>Grass</td>\n      <td>Poison</td>\n      <td>45</td>\n      <td>49</td>\n      <td>49</td>\n      <td>65</td>\n      <td>65</td>\n      <td>45</td>\n      <td>1</td>\n      <td>False</td>\n    </tr>\n    <tr>\n      <th>1</th>\n      <td>2</td>\n      <td>Ivysaur</td>\n      <td>Grass</td>\n      <td>Poison</td>\n      <td>60</td>\n      <td>62</td>\n      <td>63</td>\n      <td>80</td>\n      <td>80</td>\n      <td>60</td>\n      <td>1</td>\n      <td>False</td>\n    </tr>\n    <tr>\n      <th>2</th>\n      <td>3</td>\n      <td>Venusaur</td>\n      <td>Grass</td>\n      <td>Poison</td>\n      <td>80</td>\n      <td>82</td>\n      <td>83</td>\n      <td>100</td>\n      <td>100</td>\n      <td>80</td>\n      <td>1</td>\n      <td>False</td>\n    </tr>\n    <tr>\n      <th>3</th>\n      <td>4</td>\n      <td>Mega Venusaur</td>\n      <td>Grass</td>\n      <td>Poison</td>\n      <td>80</td>\n      <td>100</td>\n      <td>123</td>\n      <td>122</td>\n      <td>120</td>\n      <td>80</td>\n      <td>1</td>\n      <td>False</td>\n    </tr>\n    <tr>\n      <th>4</th>\n      <td>5</td>\n      <td>Charmander</td>\n      <td>Fire</td>\n      <td>NaN</td>\n      <td>39</td>\n      <td>52</td>\n      <td>43</td>\n      <td>60</td>\n      <td>50</td>\n      <td>65</td>\n      <td>1</td>\n      <td>False</td>\n    </tr>\n  </tbody>\n</table>\n</div>"
     },
     "execution_count": 5,
     "metadata": {},
     "output_type": "execute_result"
    }
   ],
   "source": [
    "#Diamo un primo sguardo al dataset\n",
    "pokemon_table.head()"
   ],
   "metadata": {
    "collapsed": false,
    "pycharm": {
     "name": "#%%\n"
    }
   }
  },
  {
   "cell_type": "code",
   "execution_count": 6,
   "outputs": [
    {
     "name": "stdout",
     "output_type": "stream",
     "text": [
      "<class 'pandas.core.frame.DataFrame'>\n",
      "RangeIndex: 800 entries, 0 to 799\n",
      "Data columns (total 12 columns):\n",
      " #   Column      Non-Null Count  Dtype \n",
      "---  ------      --------------  ----- \n",
      " 0   #           800 non-null    int64 \n",
      " 1   Name        799 non-null    object\n",
      " 2   Type 1      800 non-null    object\n",
      " 3   Type 2      414 non-null    object\n",
      " 4   HP          800 non-null    int64 \n",
      " 5   Attack      800 non-null    int64 \n",
      " 6   Defense     800 non-null    int64 \n",
      " 7   Sp. Atk     800 non-null    int64 \n",
      " 8   Sp. Def     800 non-null    int64 \n",
      " 9   Speed       800 non-null    int64 \n",
      " 10  Generation  800 non-null    int64 \n",
      " 11  Legendary   800 non-null    bool  \n",
      "dtypes: bool(1), int64(8), object(3)\n",
      "memory usage: 69.7+ KB\n"
     ]
    }
   ],
   "source": [
    "#Controlliamo se le colonne presentano valori nulli\n",
    "pokemon_table.info()"
   ],
   "metadata": {
    "collapsed": false,
    "pycharm": {
     "name": "#%%\n"
    }
   }
  },
  {
   "cell_type": "code",
   "execution_count": 7,
   "outputs": [
    {
     "data": {
      "text/plain": "     # Name    Type 1 Type 2  HP  Attack  Defense  Sp. Atk  Sp. Def  Speed  \\\n62  63  NaN  Fighting    NaN  65     105       60       60       70     95   \n\n    Generation  Legendary  \n62           1      False  ",
      "text/html": "<div>\n<style scoped>\n    .dataframe tbody tr th:only-of-type {\n        vertical-align: middle;\n    }\n\n    .dataframe tbody tr th {\n        vertical-align: top;\n    }\n\n    .dataframe thead th {\n        text-align: right;\n    }\n</style>\n<table border=\"1\" class=\"dataframe\">\n  <thead>\n    <tr style=\"text-align: right;\">\n      <th></th>\n      <th>#</th>\n      <th>Name</th>\n      <th>Type 1</th>\n      <th>Type 2</th>\n      <th>HP</th>\n      <th>Attack</th>\n      <th>Defense</th>\n      <th>Sp. Atk</th>\n      <th>Sp. Def</th>\n      <th>Speed</th>\n      <th>Generation</th>\n      <th>Legendary</th>\n    </tr>\n  </thead>\n  <tbody>\n    <tr>\n      <th>62</th>\n      <td>63</td>\n      <td>NaN</td>\n      <td>Fighting</td>\n      <td>NaN</td>\n      <td>65</td>\n      <td>105</td>\n      <td>60</td>\n      <td>60</td>\n      <td>70</td>\n      <td>95</td>\n      <td>1</td>\n      <td>False</td>\n    </tr>\n  </tbody>\n</table>\n</div>"
     },
     "execution_count": 7,
     "metadata": {},
     "output_type": "execute_result"
    }
   ],
   "source": [
    "#Nella colonna Name sembra mancare il nome di un pokemon\n",
    "pokemon_table.loc[pokemon_table['Name'].isnull()==True]"
   ],
   "metadata": {
    "collapsed": false,
    "pycharm": {
     "name": "#%%\n"
    }
   }
  },
  {
   "cell_type": "code",
   "execution_count": 8,
   "outputs": [
    {
     "data": {
      "text/plain": "     #    Name    Type 1 Type 2  HP  Attack  Defense  Sp. Atk  Sp. Def  Speed  \\\n61  62  Mankey  Fighting    NaN  40      80       35       35       45     70   \n\n    Generation  Legendary  \n61           1      False  ",
      "text/html": "<div>\n<style scoped>\n    .dataframe tbody tr th:only-of-type {\n        vertical-align: middle;\n    }\n\n    .dataframe tbody tr th {\n        vertical-align: top;\n    }\n\n    .dataframe thead th {\n        text-align: right;\n    }\n</style>\n<table border=\"1\" class=\"dataframe\">\n  <thead>\n    <tr style=\"text-align: right;\">\n      <th></th>\n      <th>#</th>\n      <th>Name</th>\n      <th>Type 1</th>\n      <th>Type 2</th>\n      <th>HP</th>\n      <th>Attack</th>\n      <th>Defense</th>\n      <th>Sp. Atk</th>\n      <th>Sp. Def</th>\n      <th>Speed</th>\n      <th>Generation</th>\n      <th>Legendary</th>\n    </tr>\n  </thead>\n  <tbody>\n    <tr>\n      <th>61</th>\n      <td>62</td>\n      <td>Mankey</td>\n      <td>Fighting</td>\n      <td>NaN</td>\n      <td>40</td>\n      <td>80</td>\n      <td>35</td>\n      <td>35</td>\n      <td>45</td>\n      <td>70</td>\n      <td>1</td>\n      <td>False</td>\n    </tr>\n  </tbody>\n</table>\n</div>"
     },
     "execution_count": 8,
     "metadata": {},
     "output_type": "execute_result"
    }
   ],
   "source": [
    "#Vediamo che cosa c'è prima di questa cella vuota\n",
    "pokemon_table.loc[pokemon_table['#']==62]"
   ],
   "metadata": {
    "collapsed": false,
    "pycharm": {
     "name": "#%%\n"
    }
   }
  },
  {
   "cell_type": "code",
   "execution_count": 9,
   "outputs": [],
   "source": [
    "#Abbiamo scoperto che il pokemon mancante in questione è un Primeape, evoluzione del Mankey, pokemon Lotta. Aggiustiamo questa mancanza.\n",
    "pokemon_table['Name']= pokemon_table['Name'].fillna('Primeape')"
   ],
   "metadata": {
    "collapsed": false,
    "pycharm": {
     "name": "#%%\n"
    }
   }
  },
  {
   "cell_type": "code",
   "execution_count": 10,
   "outputs": [
    {
     "data": {
      "text/plain": "     #      Name    Type 1 Type 2  HP  Attack  Defense  Sp. Atk  Sp. Def  \\\n62  63  Primeape  Fighting    NaN  65     105       60       60       70   \n\n    Speed  Generation  Legendary  \n62     95           1      False  ",
      "text/html": "<div>\n<style scoped>\n    .dataframe tbody tr th:only-of-type {\n        vertical-align: middle;\n    }\n\n    .dataframe tbody tr th {\n        vertical-align: top;\n    }\n\n    .dataframe thead th {\n        text-align: right;\n    }\n</style>\n<table border=\"1\" class=\"dataframe\">\n  <thead>\n    <tr style=\"text-align: right;\">\n      <th></th>\n      <th>#</th>\n      <th>Name</th>\n      <th>Type 1</th>\n      <th>Type 2</th>\n      <th>HP</th>\n      <th>Attack</th>\n      <th>Defense</th>\n      <th>Sp. Atk</th>\n      <th>Sp. Def</th>\n      <th>Speed</th>\n      <th>Generation</th>\n      <th>Legendary</th>\n    </tr>\n  </thead>\n  <tbody>\n    <tr>\n      <th>62</th>\n      <td>63</td>\n      <td>Primeape</td>\n      <td>Fighting</td>\n      <td>NaN</td>\n      <td>65</td>\n      <td>105</td>\n      <td>60</td>\n      <td>60</td>\n      <td>70</td>\n      <td>95</td>\n      <td>1</td>\n      <td>False</td>\n    </tr>\n  </tbody>\n</table>\n</div>"
     },
     "execution_count": 10,
     "metadata": {},
     "output_type": "execute_result"
    }
   ],
   "source": [
    "pokemon_table.loc[pokemon_table['#']==63]"
   ],
   "metadata": {
    "collapsed": false,
    "pycharm": {
     "name": "#%%\n"
    }
   }
  },
  {
   "cell_type": "code",
   "execution_count": 11,
   "outputs": [
    {
     "name": "stdout",
     "output_type": "stream",
     "text": [
      "['Grass' 'Fire' 'Water' 'Bug' 'Normal' 'Poison' 'Electric' 'Ground'\n",
      " 'Fairy' 'Fighting' 'Psychic' 'Rock' 'Ghost' 'Ice' 'Dragon' 'Dark' 'Steel'\n",
      " 'Flying']\n"
     ]
    }
   ],
   "source": [
    "print(pokemon_table['Type 1'].unique())"
   ],
   "metadata": {
    "collapsed": false,
    "pycharm": {
     "name": "#%%\n"
    }
   }
  },
  {
   "cell_type": "code",
   "execution_count": 12,
   "outputs": [
    {
     "name": "stdout",
     "output_type": "stream",
     "text": [
      "['Poison' nan 'Flying' 'Dragon' 'Ground' 'Fairy' 'Grass' 'Fighting'\n",
      " 'Psychic' 'Steel' 'Ice' 'Rock' 'Dark' 'Water' 'Electric' 'Fire' 'Ghost'\n",
      " 'Bug' 'Normal']\n"
     ]
    }
   ],
   "source": [
    "print(pokemon_table['Type 2'].unique())"
   ],
   "metadata": {
    "collapsed": false,
    "pycharm": {
     "name": "#%%\n"
    }
   }
  },
  {
   "cell_type": "code",
   "execution_count": 13,
   "outputs": [],
   "source": [
    "#Come già avevamo visto, molti pokemon non hanno un secondo tipo. Risolviamo questa mancanza\n",
    "pokemon_table['Type 2']=pokemon_table['Type 2'].fillna('None')"
   ],
   "metadata": {
    "collapsed": false,
    "pycharm": {
     "name": "#%%\n"
    }
   }
  },
  {
   "cell_type": "code",
   "execution_count": 14,
   "outputs": [
    {
     "name": "stdout",
     "output_type": "stream",
     "text": [
      "['Poison' 'None' 'Flying' 'Dragon' 'Ground' 'Fairy' 'Grass' 'Fighting'\n",
      " 'Psychic' 'Steel' 'Ice' 'Rock' 'Dark' 'Water' 'Electric' 'Fire' 'Ghost'\n",
      " 'Bug' 'Normal']\n"
     ]
    }
   ],
   "source": [
    "print(pokemon_table['Type 2'].unique())"
   ],
   "metadata": {
    "collapsed": false,
    "pycharm": {
     "name": "#%%\n"
    }
   }
  },
  {
   "cell_type": "code",
   "execution_count": 15,
   "outputs": [
    {
     "data": {
      "text/plain": "<Figure size 432x288 with 1 Axes>",
      "image/png": "[encoded data removed]"
     },
     "metadata": {
      "needs_background": "light"
     },
     "output_type": "display_data"
    },
    {
     "data": {
      "text/plain": "<Figure size 864x432 with 0 Axes>"
     },
     "metadata": {},
     "output_type": "display_data"
    }
   ],
   "source": [
    "#Andiamo ad analizzare i tipi dei pokemon per vedere quali sono i più frequenti.\n",
    "sns.countplot(x='Type 1', data=pokemon_table, order=pokemon_table['Type 1'].value_counts().index)\n",
    "plt.xticks(rotation=90)\n",
    "plt.figure(figsize=(12,6))\n",
    "plt.show()\n",
    "#La maggior parte dei pokemon ha come primo tipo Acqua, seguito da Normale ed Erba"
   ],
   "metadata": {
    "collapsed": false,
    "pycharm": {
     "name": "#%%\n"
    }
   }
  },
  {
   "cell_type": "code",
   "execution_count": 16,
   "outputs": [
    {
     "data": {
      "text/plain": "<Figure size 432x288 with 1 Axes>",
      "image/png": "[encoded data removed]"
     },
     "metadata": {
      "needs_background": "light"
     },
     "output_type": "display_data"
    },
    {
     "data": {
      "text/plain": "<Figure size 864x432 with 0 Axes>"
     },
     "metadata": {},
     "output_type": "display_data"
    }
   ],
   "source": [
    "sns.countplot(x='Type 2',data=pokemon_table, order=pokemon_table['Type 2'].value_counts().index)\n",
    "plt.xticks(rotation=90)\n",
    "plt.figure(figsize=(12,6))\n",
    "plt.show()\n",
    "#Come secondo tipo invece,la maggior parte dei pokemon non lo ha, infatti molti pokemon base sono monotipo. Seguono il tipo Volante e Terra."
   ],
   "metadata": {
    "collapsed": false,
    "pycharm": {
     "name": "#%%\n"
    }
   }
  },
  {
   "cell_type": "markdown",
   "source": [
    "<h5>Analisi delle statistiche</h5>\n",
    "Per i pokemon le statistiche sono fondamentali, infatti è possibile determinare il livello di forza di un pokemon dalle sue statistiche nei vari campi.\n",
    "Infatti, l'esito di molte battaglie è facilmente riconducibile ai valori delle statistiche dei vari pokemon.\n",
    "Andiamo ad individuare quali sono i pokemon migliori in base ad una determinata statistica."
   ],
   "metadata": {
    "collapsed": false,
    "pycharm": {
     "name": "#%% md\n"
    }
   }
  },
  {
   "cell_type": "code",
   "execution_count": 17,
   "outputs": [
    {
     "data": {
      "text/plain": "       #       Name   Type 1 Type 2   HP  Generation  Legendary\n261  262    Blissey   Normal   None  255           2      False\n121  122    Chansey   Normal   None  250           1      False\n217  218  Wobbuffet  Psychic   None  190           2      False\n351  352    Wailord    Water   None  170           3      False\n655  656  Alomomola    Water   None  165           5      False",
      "text/html": "<div>\n<style scoped>\n    .dataframe tbody tr th:only-of-type {\n        vertical-align: middle;\n    }\n\n    .dataframe tbody tr th {\n        vertical-align: top;\n    }\n\n    .dataframe thead th {\n        text-align: right;\n    }\n</style>\n<table border=\"1\" class=\"dataframe\">\n  <thead>\n    <tr style=\"text-align: right;\">\n      <th></th>\n      <th>#</th>\n      <th>Name</th>\n      <th>Type 1</th>\n      <th>Type 2</th>\n      <th>HP</th>\n      <th>Generation</th>\n      <th>Legendary</th>\n    </tr>\n  </thead>\n  <tbody>\n    <tr>\n      <th>261</th>\n      <td>262</td>\n      <td>Blissey</td>\n      <td>Normal</td>\n      <td>None</td>\n      <td>255</td>\n      <td>2</td>\n      <td>False</td>\n    </tr>\n    <tr>\n      <th>121</th>\n      <td>122</td>\n      <td>Chansey</td>\n      <td>Normal</td>\n      <td>None</td>\n      <td>250</td>\n      <td>1</td>\n      <td>False</td>\n    </tr>\n    <tr>\n      <th>217</th>\n      <td>218</td>\n      <td>Wobbuffet</td>\n      <td>Psychic</td>\n      <td>None</td>\n      <td>190</td>\n      <td>2</td>\n      <td>False</td>\n    </tr>\n    <tr>\n      <th>351</th>\n      <td>352</td>\n      <td>Wailord</td>\n      <td>Water</td>\n      <td>None</td>\n      <td>170</td>\n      <td>3</td>\n      <td>False</td>\n    </tr>\n    <tr>\n      <th>655</th>\n      <td>656</td>\n      <td>Alomomola</td>\n      <td>Water</td>\n      <td>None</td>\n      <td>165</td>\n      <td>5</td>\n      <td>False</td>\n    </tr>\n  </tbody>\n</table>\n</div>"
     },
     "execution_count": 17,
     "metadata": {},
     "output_type": "execute_result"
    }
   ],
   "source": [
    "#HP\n",
    "pokemon_table[['#','Name','Type 1','Type 2','HP','Generation','Legendary']].sort_values(by=['HP'],ascending=False).head()"
   ],
   "metadata": {
    "collapsed": false,
    "pycharm": {
     "name": "#%%\n"
    }
   }
  },
  {
   "cell_type": "code",
   "execution_count": 18,
   "outputs": [
    {
     "data": {
      "text/plain": "       #                Name   Type 1    Type 2  Attack  Generation  Legendary\n163  164       Mega Mewtwo X  Psychic  Fighting     190           1       True\n232  233      Mega Heracross      Bug  Fighting     185           2      False\n424  425      Primal Groudon   Ground      Fire     180           3       True\n426  427       Mega Rayquaza   Dragon    Flying     180           3       True\n429  430  DeoxysAttack Forme  Psychic      None     180           3       True",
      "text/html": "<div>\n<style scoped>\n    .dataframe tbody tr th:only-of-type {\n        vertical-align: middle;\n    }\n\n    .dataframe tbody tr th {\n        vertical-align: top;\n    }\n\n    .dataframe thead th {\n        text-align: right;\n    }\n</style>\n<table border=\"1\" class=\"dataframe\">\n  <thead>\n    <tr style=\"text-align: right;\">\n      <th></th>\n      <th>#</th>\n      <th>Name</th>\n      <th>Type 1</th>\n      <th>Type 2</th>\n      <th>Attack</th>\n      <th>Generation</th>\n      <th>Legendary</th>\n    </tr>\n  </thead>\n  <tbody>\n    <tr>\n      <th>163</th>\n      <td>164</td>\n      <td>Mega Mewtwo X</td>\n      <td>Psychic</td>\n      <td>Fighting</td>\n      <td>190</td>\n      <td>1</td>\n      <td>True</td>\n    </tr>\n    <tr>\n      <th>232</th>\n      <td>233</td>\n      <td>Mega Heracross</td>\n      <td>Bug</td>\n      <td>Fighting</td>\n      <td>185</td>\n      <td>2</td>\n      <td>False</td>\n    </tr>\n    <tr>\n      <th>424</th>\n      <td>425</td>\n      <td>Primal Groudon</td>\n      <td>Ground</td>\n      <td>Fire</td>\n      <td>180</td>\n      <td>3</td>\n      <td>True</td>\n    </tr>\n    <tr>\n      <th>426</th>\n      <td>427</td>\n      <td>Mega Rayquaza</td>\n      <td>Dragon</td>\n      <td>Flying</td>\n      <td>180</td>\n      <td>3</td>\n      <td>True</td>\n    </tr>\n    <tr>\n      <th>429</th>\n      <td>430</td>\n      <td>DeoxysAttack Forme</td>\n      <td>Psychic</td>\n      <td>None</td>\n      <td>180</td>\n      <td>3</td>\n      <td>True</td>\n    </tr>\n  </tbody>\n</table>\n</div>"
     },
     "execution_count": 18,
     "metadata": {},
     "output_type": "execute_result"
    }
   ],
   "source": [
    "#Attack\n",
    "pokemon_table[['#','Name','Type 1','Type 2','Attack','Generation','Legendary']].sort_values(by=['Attack'],ascending=False).head()"
   ],
   "metadata": {
    "collapsed": false,
    "pycharm": {
     "name": "#%%\n"
    }
   }
  },
  {
   "cell_type": "code",
   "execution_count": 19,
   "outputs": [
    {
     "data": {
      "text/plain": "       #          Name Type 1  Type 2  Defense  Generation  Legendary\n230  231       Shuckle    Bug    Rock      230           2      False\n224  225  Mega Steelix  Steel  Ground      230           2      False\n333  334   Mega Aggron  Steel    None      230           3      False\n223  224       Steelix  Steel  Ground      200           2      False\n414  415      Regirock   Rock    None      200           3       True",
      "text/html": "<div>\n<style scoped>\n    .dataframe tbody tr th:only-of-type {\n        vertical-align: middle;\n    }\n\n    .dataframe tbody tr th {\n        vertical-align: top;\n    }\n\n    .dataframe thead th {\n        text-align: right;\n    }\n</style>\n<table border=\"1\" class=\"dataframe\">\n  <thead>\n    <tr style=\"text-align: right;\">\n      <th></th>\n      <th>#</th>\n      <th>Name</th>\n      <th>Type 1</th>\n      <th>Type 2</th>\n      <th>Defense</th>\n      <th>Generation</th>\n      <th>Legendary</th>\n    </tr>\n  </thead>\n  <tbody>\n    <tr>\n      <th>230</th>\n      <td>231</td>\n      <td>Shuckle</td>\n      <td>Bug</td>\n      <td>Rock</td>\n      <td>230</td>\n      <td>2</td>\n      <td>False</td>\n    </tr>\n    <tr>\n      <th>224</th>\n      <td>225</td>\n      <td>Mega Steelix</td>\n      <td>Steel</td>\n      <td>Ground</td>\n      <td>230</td>\n      <td>2</td>\n      <td>False</td>\n    </tr>\n    <tr>\n      <th>333</th>\n      <td>334</td>\n      <td>Mega Aggron</td>\n      <td>Steel</td>\n      <td>None</td>\n      <td>230</td>\n      <td>3</td>\n      <td>False</td>\n    </tr>\n    <tr>\n      <th>223</th>\n      <td>224</td>\n      <td>Steelix</td>\n      <td>Steel</td>\n      <td>Ground</td>\n      <td>200</td>\n      <td>2</td>\n      <td>False</td>\n    </tr>\n    <tr>\n      <th>414</th>\n      <td>415</td>\n      <td>Regirock</td>\n      <td>Rock</td>\n      <td>None</td>\n      <td>200</td>\n      <td>3</td>\n      <td>True</td>\n    </tr>\n  </tbody>\n</table>\n</div>"
     },
     "execution_count": 19,
     "metadata": {},
     "output_type": "execute_result"
    }
   ],
   "source": [
    "#Defense\n",
    "pokemon_table[['#','Name','Type 1','Type 2','Defense','Generation','Legendary']].sort_values(by=['Defense'],ascending=False).head()"
   ],
   "metadata": {
    "collapsed": false,
    "pycharm": {
     "name": "#%%\n"
    }
   }
  },
  {
   "cell_type": "code",
   "execution_count": 20,
   "outputs": [
    {
     "data": {
      "text/plain": "       #                Name   Type 1  Type 2  Sp. Atk  Generation  Legendary\n164  165       Mega Mewtwo Y  Psychic    None      194           1       True\n422  423       Primal Kyogre    Water    None      180           3       True\n429  430  DeoxysAttack Forme  Psychic    None      180           3       True\n426  427       Mega Rayquaza   Dragon  Flying      180           3       True\n71    72       Mega Alakazam  Psychic    None      175           1      False",
      "text/html": "<div>\n<style scoped>\n    .dataframe tbody tr th:only-of-type {\n        vertical-align: middle;\n    }\n\n    .dataframe tbody tr th {\n        vertical-align: top;\n    }\n\n    .dataframe thead th {\n        text-align: right;\n    }\n</style>\n<table border=\"1\" class=\"dataframe\">\n  <thead>\n    <tr style=\"text-align: right;\">\n      <th></th>\n      <th>#</th>\n      <th>Name</th>\n      <th>Type 1</th>\n      <th>Type 2</th>\n      <th>Sp. Atk</th>\n      <th>Generation</th>\n      <th>Legendary</th>\n    </tr>\n  </thead>\n  <tbody>\n    <tr>\n      <th>164</th>\n      <td>165</td>\n      <td>Mega Mewtwo Y</td>\n      <td>Psychic</td>\n      <td>None</td>\n      <td>194</td>\n      <td>1</td>\n      <td>True</td>\n    </tr>\n    <tr>\n      <th>422</th>\n      <td>423</td>\n      <td>Primal Kyogre</td>\n      <td>Water</td>\n      <td>None</td>\n      <td>180</td>\n      <td>3</td>\n      <td>True</td>\n    </tr>\n    <tr>\n      <th>429</th>\n      <td>430</td>\n      <td>DeoxysAttack Forme</td>\n      <td>Psychic</td>\n      <td>None</td>\n      <td>180</td>\n      <td>3</td>\n      <td>True</td>\n    </tr>\n    <tr>\n      <th>426</th>\n      <td>427</td>\n      <td>Mega Rayquaza</td>\n      <td>Dragon</td>\n      <td>Flying</td>\n      <td>180</td>\n      <td>3</td>\n      <td>True</td>\n    </tr>\n    <tr>\n      <th>71</th>\n      <td>72</td>\n      <td>Mega Alakazam</td>\n      <td>Psychic</td>\n      <td>None</td>\n      <td>175</td>\n      <td>1</td>\n      <td>False</td>\n    </tr>\n  </tbody>\n</table>\n</div>"
     },
     "execution_count": 20,
     "metadata": {},
     "output_type": "execute_result"
    }
   ],
   "source": [
    "#Special Attack\n",
    "pokemon_table[['#','Name','Type 1','Type 2','Sp. Atk','Generation','Legendary']].sort_values(by=['Sp. Atk'],ascending=False).head()"
   ],
   "metadata": {
    "collapsed": false,
    "pycharm": {
     "name": "#%%\n"
    }
   }
  },
  {
   "cell_type": "code",
   "execution_count": 21,
   "outputs": [
    {
     "data": {
      "text/plain": "       #                  Name   Type 1  Type 2  Sp. Def  Generation  \\\n230  231               Shuckle      Bug    Rock      230           2   \n415  416                Regice      Ice    None      200           3   \n430  431  Deoxys Defense Forme  Psychic    None      160           3   \n422  423         Primal Kyogre    Water    None      160           3   \n270  271                 Ho-oh     Fire  Flying      154           2   \n\n     Legendary  \n230      False  \n415       True  \n430       True  \n422       True  \n270       True  ",
      "text/html": "<div>\n<style scoped>\n    .dataframe tbody tr th:only-of-type {\n        vertical-align: middle;\n    }\n\n    .dataframe tbody tr th {\n        vertical-align: top;\n    }\n\n    .dataframe thead th {\n        text-align: right;\n    }\n</style>\n<table border=\"1\" class=\"dataframe\">\n  <thead>\n    <tr style=\"text-align: right;\">\n      <th></th>\n      <th>#</th>\n      <th>Name</th>\n      <th>Type 1</th>\n      <th>Type 2</th>\n      <th>Sp. Def</th>\n      <th>Generation</th>\n      <th>Legendary</th>\n    </tr>\n  </thead>\n  <tbody>\n    <tr>\n      <th>230</th>\n      <td>231</td>\n      <td>Shuckle</td>\n      <td>Bug</td>\n      <td>Rock</td>\n      <td>230</td>\n      <td>2</td>\n      <td>False</td>\n    </tr>\n    <tr>\n      <th>415</th>\n      <td>416</td>\n      <td>Regice</td>\n      <td>Ice</td>\n      <td>None</td>\n      <td>200</td>\n      <td>3</td>\n      <td>True</td>\n    </tr>\n    <tr>\n      <th>430</th>\n      <td>431</td>\n      <td>Deoxys Defense Forme</td>\n      <td>Psychic</td>\n      <td>None</td>\n      <td>160</td>\n      <td>3</td>\n      <td>True</td>\n    </tr>\n    <tr>\n      <th>422</th>\n      <td>423</td>\n      <td>Primal Kyogre</td>\n      <td>Water</td>\n      <td>None</td>\n      <td>160</td>\n      <td>3</td>\n      <td>True</td>\n    </tr>\n    <tr>\n      <th>270</th>\n      <td>271</td>\n      <td>Ho-oh</td>\n      <td>Fire</td>\n      <td>Flying</td>\n      <td>154</td>\n      <td>2</td>\n      <td>True</td>\n    </tr>\n  </tbody>\n</table>\n</div>"
     },
     "execution_count": 21,
     "metadata": {},
     "output_type": "execute_result"
    }
   ],
   "source": [
    "#Special Defence\n",
    "pokemon_table[['#','Name','Type 1','Type 2','Sp. Def','Generation','Legendary']].sort_values(by=['Sp. Def'],ascending=False).head()"
   ],
   "metadata": {
    "collapsed": false,
    "pycharm": {
     "name": "#%%\n"
    }
   }
  },
  {
   "cell_type": "code",
   "execution_count": 22,
   "outputs": [
    {
     "data": {
      "text/plain": "       #                 Name   Type 1  Type 2  Speed  Generation  Legendary\n431  432   Deoxys Speed Forme  Psychic    None    180           3       True\n315  316              Ninjask      Bug  Flying    160           3      False\n428  429  Deoxys Normal Forme  Psychic    None    150           3       True\n154  155      Mega Aerodactyl     Rock  Flying    150           1      False\n71    72        Mega Alakazam  Psychic    None    150           1      False",
      "text/html": "<div>\n<style scoped>\n    .dataframe tbody tr th:only-of-type {\n        vertical-align: middle;\n    }\n\n    .dataframe tbody tr th {\n        vertical-align: top;\n    }\n\n    .dataframe thead th {\n        text-align: right;\n    }\n</style>\n<table border=\"1\" class=\"dataframe\">\n  <thead>\n    <tr style=\"text-align: right;\">\n      <th></th>\n      <th>#</th>\n      <th>Name</th>\n      <th>Type 1</th>\n      <th>Type 2</th>\n      <th>Speed</th>\n      <th>Generation</th>\n      <th>Legendary</th>\n    </tr>\n  </thead>\n  <tbody>\n    <tr>\n      <th>431</th>\n      <td>432</td>\n      <td>Deoxys Speed Forme</td>\n      <td>Psychic</td>\n      <td>None</td>\n      <td>180</td>\n      <td>3</td>\n      <td>True</td>\n    </tr>\n    <tr>\n      <th>315</th>\n      <td>316</td>\n      <td>Ninjask</td>\n      <td>Bug</td>\n      <td>Flying</td>\n      <td>160</td>\n      <td>3</td>\n      <td>False</td>\n    </tr>\n    <tr>\n      <th>428</th>\n      <td>429</td>\n      <td>Deoxys Normal Forme</td>\n      <td>Psychic</td>\n      <td>None</td>\n      <td>150</td>\n      <td>3</td>\n      <td>True</td>\n    </tr>\n    <tr>\n      <th>154</th>\n      <td>155</td>\n      <td>Mega Aerodactyl</td>\n      <td>Rock</td>\n      <td>Flying</td>\n      <td>150</td>\n      <td>1</td>\n      <td>False</td>\n    </tr>\n    <tr>\n      <th>71</th>\n      <td>72</td>\n      <td>Mega Alakazam</td>\n      <td>Psychic</td>\n      <td>None</td>\n      <td>150</td>\n      <td>1</td>\n      <td>False</td>\n    </tr>\n  </tbody>\n</table>\n</div>"
     },
     "execution_count": 22,
     "metadata": {},
     "output_type": "execute_result"
    }
   ],
   "source": [
    "#Speed\n",
    "pokemon_table[['#','Name','Type 1','Type 2','Speed','Generation','Legendary']].sort_values(by=['Speed'],ascending=False).head()"
   ],
   "metadata": {
    "collapsed": false,
    "pycharm": {
     "name": "#%%\n"
    }
   }
  },
  {
   "cell_type": "markdown",
   "source": [
    "<h5>Analizziamo adesso le statistiche totali dei vari pokemon al fine di determinare quali siano,globalmente, a livello di attributi  quelli più forti</h5>\n",
    "Sottolineamo che i pokemon leggendari e le megaevoluzioni  sono i pokemon la cui somma totale delle statistiche è più elevata. M"
   ],
   "metadata": {
    "collapsed": false,
    "pycharm": {
     "name": "#%% md\n"
    }
   }
  },
  {
   "cell_type": "code",
   "execution_count": 23,
   "outputs": [
    {
     "name": "stdout",
     "output_type": "stream",
     "text": [
      "               Name  Stats_tot\n",
      "0         Bulbasaur        318\n",
      "1           Ivysaur        405\n",
      "2          Venusaur        525\n",
      "3     Mega Venusaur        625\n",
      "4        Charmander        309\n",
      "..              ...        ...\n",
      "795         Diancie        600\n",
      "796    Mega Diancie        700\n",
      "797  Hoopa Confined        600\n",
      "798   Hoopa Unbound        680\n",
      "799       Volcanion        600\n",
      "\n",
      "[800 rows x 2 columns]\n"
     ]
    },
    {
     "name": "stderr",
     "output_type": "stream",
     "text": [
      "C:\\Users\\Corrado\\anaconda3\\lib\\site-packages\\seaborn\\distributions.py:2557: FutureWarning: `distplot` is a deprecated function and will be removed in a future version. Please adapt your code to use either `displot` (a figure-level function with similar flexibility) or `histplot` (an axes-level function for histograms).\n",
      "  warnings.warn(msg, FutureWarning)\n"
     ]
    },
    {
     "data": {
      "text/plain": "<Figure size 432x288 with 1 Axes>",
      "image/png": "[encoded data removed]"
     },
     "metadata": {
      "needs_background": "light"
     },
     "output_type": "display_data"
    },
    {
     "data": {
      "text/plain": "<Figure size 864x432 with 0 Axes>"
     },
     "metadata": {},
     "output_type": "display_data"
    }
   ],
   "source": [
    "#Somma statistiche\n",
    "pokemon_table['Stats_tot']=pokemon_table['HP']+pokemon_table['Attack']+pokemon_table['Defense']+pokemon_table['Sp. Atk']+pokemon_table['Sp. Def']+pokemon_table['Speed']\n",
    "print(pokemon_table[['Name','Stats_tot']])\n",
    "sns.distplot(pokemon_table.Stats_tot)\n",
    "plt.figure(figsize=(12,6))\n",
    "plt.show()"
   ],
   "metadata": {
    "collapsed": false,
    "pycharm": {
     "name": "#%%\n"
    }
   }
  },
  {
   "cell_type": "code",
   "execution_count": 24,
   "outputs": [
    {
     "name": "stdout",
     "output_type": "stream",
     "text": [
      "Media Statistiche totali: 435.1025\n"
     ]
    }
   ],
   "source": [
    "#Dalla figura precedente si evince come la maggior parte dei pokemon abbia le statistiche totali che si aggirano in un intervallo compreso tra [300 e 500]\n",
    "#Approfondiamo questi valori:\n",
    "print('Media Statistiche totali:',pokemon_table['Stats_tot'].mean())"
   ],
   "metadata": {
    "collapsed": false,
    "pycharm": {
     "name": "#%%\n"
    }
   }
  },
  {
   "cell_type": "code",
   "execution_count": 25,
   "outputs": [
    {
     "data": {
      "text/plain": "       #                 Name  Stats_tot  Generation  Legendary\n426  427        Mega Rayquaza        780           3       True\n164  165        Mega Mewtwo Y        780           1       True\n163  164        Mega Mewtwo X        780           1       True\n422  423        Primal Kyogre        770           3       True\n424  425       Primal Groudon        770           3       True\n552  553               Arceus        720           4       True\n712  713  Kyurem White Kyurem        700           5       True\n711  712  Kyurem Black Kyurem        700           5       True\n409  410       Mega Salamence        700           3      False\n413  414       Mega Metagross        700           3      False",
      "text/html": "<div>\n<style scoped>\n    .dataframe tbody tr th:only-of-type {\n        vertical-align: middle;\n    }\n\n    .dataframe tbody tr th {\n        vertical-align: top;\n    }\n\n    .dataframe thead th {\n        text-align: right;\n    }\n</style>\n<table border=\"1\" class=\"dataframe\">\n  <thead>\n    <tr style=\"text-align: right;\">\n      <th></th>\n      <th>#</th>\n      <th>Name</th>\n      <th>Stats_tot</th>\n      <th>Generation</th>\n      <th>Legendary</th>\n    </tr>\n  </thead>\n  <tbody>\n    <tr>\n      <th>426</th>\n      <td>427</td>\n      <td>Mega Rayquaza</td>\n      <td>780</td>\n      <td>3</td>\n      <td>True</td>\n    </tr>\n    <tr>\n      <th>164</th>\n      <td>165</td>\n      <td>Mega Mewtwo Y</td>\n      <td>780</td>\n      <td>1</td>\n      <td>True</td>\n    </tr>\n    <tr>\n      <th>163</th>\n      <td>164</td>\n      <td>Mega Mewtwo X</td>\n      <td>780</td>\n      <td>1</td>\n      <td>True</td>\n    </tr>\n    <tr>\n      <th>422</th>\n      <td>423</td>\n      <td>Primal Kyogre</td>\n      <td>770</td>\n      <td>3</td>\n      <td>True</td>\n    </tr>\n    <tr>\n      <th>424</th>\n      <td>425</td>\n      <td>Primal Groudon</td>\n      <td>770</td>\n      <td>3</td>\n      <td>True</td>\n    </tr>\n    <tr>\n      <th>552</th>\n      <td>553</td>\n      <td>Arceus</td>\n      <td>720</td>\n      <td>4</td>\n      <td>True</td>\n    </tr>\n    <tr>\n      <th>712</th>\n      <td>713</td>\n      <td>Kyurem White Kyurem</td>\n      <td>700</td>\n      <td>5</td>\n      <td>True</td>\n    </tr>\n    <tr>\n      <th>711</th>\n      <td>712</td>\n      <td>Kyurem Black Kyurem</td>\n      <td>700</td>\n      <td>5</td>\n      <td>True</td>\n    </tr>\n    <tr>\n      <th>409</th>\n      <td>410</td>\n      <td>Mega Salamence</td>\n      <td>700</td>\n      <td>3</td>\n      <td>False</td>\n    </tr>\n    <tr>\n      <th>413</th>\n      <td>414</td>\n      <td>Mega Metagross</td>\n      <td>700</td>\n      <td>3</td>\n      <td>False</td>\n    </tr>\n  </tbody>\n</table>\n</div>"
     },
     "execution_count": 25,
     "metadata": {},
     "output_type": "execute_result"
    }
   ],
   "source": [
    "#Elenco dei 10 pokemon più forti\n",
    "pokemon_table[['#','Name','Stats_tot','Generation','Legendary']].sort_values(by=['Stats_tot'],ascending=False).head(10)"
   ],
   "metadata": {
    "collapsed": false,
    "pycharm": {
     "name": "#%%\n"
    }
   }
  },
  {
   "cell_type": "code",
   "execution_count": 26,
   "outputs": [
    {
     "data": {
      "text/plain": "       #        Name  Stats_tot  Generation\n206  207     Sunkern        180           2\n322  323     Azurill        190           3\n446  447   Kricketot        194           4\n288  289     Wurmple        195           3\n16    17      Weedle        195           1\n13    14    Caterpie        195           1\n303  304       Ralts        198           3\n732  733  Scatterbug        200           6\n139  140    Magikarp        200           1\n381  382      Feebas        200           3",
      "text/html": "<div>\n<style scoped>\n    .dataframe tbody tr th:only-of-type {\n        vertical-align: middle;\n    }\n\n    .dataframe tbody tr th {\n        vertical-align: top;\n    }\n\n    .dataframe thead th {\n        text-align: right;\n    }\n</style>\n<table border=\"1\" class=\"dataframe\">\n  <thead>\n    <tr style=\"text-align: right;\">\n      <th></th>\n      <th>#</th>\n      <th>Name</th>\n      <th>Stats_tot</th>\n      <th>Generation</th>\n    </tr>\n  </thead>\n  <tbody>\n    <tr>\n      <th>206</th>\n      <td>207</td>\n      <td>Sunkern</td>\n      <td>180</td>\n      <td>2</td>\n    </tr>\n    <tr>\n      <th>322</th>\n      <td>323</td>\n      <td>Azurill</td>\n      <td>190</td>\n      <td>3</td>\n    </tr>\n    <tr>\n      <th>446</th>\n      <td>447</td>\n      <td>Kricketot</td>\n      <td>194</td>\n      <td>4</td>\n    </tr>\n    <tr>\n      <th>288</th>\n      <td>289</td>\n      <td>Wurmple</td>\n      <td>195</td>\n      <td>3</td>\n    </tr>\n    <tr>\n      <th>16</th>\n      <td>17</td>\n      <td>Weedle</td>\n      <td>195</td>\n      <td>1</td>\n    </tr>\n    <tr>\n      <th>13</th>\n      <td>14</td>\n      <td>Caterpie</td>\n      <td>195</td>\n      <td>1</td>\n    </tr>\n    <tr>\n      <th>303</th>\n      <td>304</td>\n      <td>Ralts</td>\n      <td>198</td>\n      <td>3</td>\n    </tr>\n    <tr>\n      <th>732</th>\n      <td>733</td>\n      <td>Scatterbug</td>\n      <td>200</td>\n      <td>6</td>\n    </tr>\n    <tr>\n      <th>139</th>\n      <td>140</td>\n      <td>Magikarp</td>\n      <td>200</td>\n      <td>1</td>\n    </tr>\n    <tr>\n      <th>381</th>\n      <td>382</td>\n      <td>Feebas</td>\n      <td>200</td>\n      <td>3</td>\n    </tr>\n  </tbody>\n</table>\n</div>"
     },
     "execution_count": 26,
     "metadata": {},
     "output_type": "execute_result"
    }
   ],
   "source": [
    "#Elenco dei 10 pokemon più deboli\n",
    "pokemon_table[['#','Name','Stats_tot','Generation']].sort_values(by=['Stats_tot'],ascending=True).head(10)"
   ],
   "metadata": {
    "collapsed": false,
    "pycharm": {
     "name": "#%%\n"
    }
   }
  },
  {
   "cell_type": "code",
   "execution_count": 27,
   "outputs": [
    {
     "data": {
      "text/plain": "       #                 Name  Stats_tot  Generation\n163  164        Mega Mewtwo X        780           1\n164  165        Mega Mewtwo Y        780           1\n426  427        Mega Rayquaza        780           3\n422  423        Primal Kyogre        770           3\n424  425       Primal Groudon        770           3\n552  553               Arceus        720           4\n711  712  Kyurem Black Kyurem        700           5\n418  419          Mega Latias        700           3\n712  713  Kyurem White Kyurem        700           5\n796  797         Mega Diancie        700           6",
      "text/html": "<div>\n<style scoped>\n    .dataframe tbody tr th:only-of-type {\n        vertical-align: middle;\n    }\n\n    .dataframe tbody tr th {\n        vertical-align: top;\n    }\n\n    .dataframe thead th {\n        text-align: right;\n    }\n</style>\n<table border=\"1\" class=\"dataframe\">\n  <thead>\n    <tr style=\"text-align: right;\">\n      <th></th>\n      <th>#</th>\n      <th>Name</th>\n      <th>Stats_tot</th>\n      <th>Generation</th>\n    </tr>\n  </thead>\n  <tbody>\n    <tr>\n      <th>163</th>\n      <td>164</td>\n      <td>Mega Mewtwo X</td>\n      <td>780</td>\n      <td>1</td>\n    </tr>\n    <tr>\n      <th>164</th>\n      <td>165</td>\n      <td>Mega Mewtwo Y</td>\n      <td>780</td>\n      <td>1</td>\n    </tr>\n    <tr>\n      <th>426</th>\n      <td>427</td>\n      <td>Mega Rayquaza</td>\n      <td>780</td>\n      <td>3</td>\n    </tr>\n    <tr>\n      <th>422</th>\n      <td>423</td>\n      <td>Primal Kyogre</td>\n      <td>770</td>\n      <td>3</td>\n    </tr>\n    <tr>\n      <th>424</th>\n      <td>425</td>\n      <td>Primal Groudon</td>\n      <td>770</td>\n      <td>3</td>\n    </tr>\n    <tr>\n      <th>552</th>\n      <td>553</td>\n      <td>Arceus</td>\n      <td>720</td>\n      <td>4</td>\n    </tr>\n    <tr>\n      <th>711</th>\n      <td>712</td>\n      <td>Kyurem Black Kyurem</td>\n      <td>700</td>\n      <td>5</td>\n    </tr>\n    <tr>\n      <th>418</th>\n      <td>419</td>\n      <td>Mega Latias</td>\n      <td>700</td>\n      <td>3</td>\n    </tr>\n    <tr>\n      <th>712</th>\n      <td>713</td>\n      <td>Kyurem White Kyurem</td>\n      <td>700</td>\n      <td>5</td>\n    </tr>\n    <tr>\n      <th>796</th>\n      <td>797</td>\n      <td>Mega Diancie</td>\n      <td>700</td>\n      <td>6</td>\n    </tr>\n  </tbody>\n</table>\n</div>"
     },
     "execution_count": 27,
     "metadata": {},
     "output_type": "execute_result"
    }
   ],
   "source": [
    "#Elenco dei 10 pokemon leggendari più forti\n",
    "legendary_pokemon=pokemon_table[pokemon_table['Legendary']==True]\n",
    "legendary_pokemon[['#','Name','Stats_tot','Generation']].sort_values(by=['Stats_tot'],ascending=False).head(10)"
   ],
   "metadata": {
    "collapsed": false,
    "pycharm": {
     "name": "#%%\n"
    }
   }
  },
  {
   "cell_type": "code",
   "execution_count": 28,
   "outputs": [
    {
     "data": {
      "text/plain": "       #                       Name  Stats_tot  Generation\n156  157                   Articuno        580           1\n539  540                      Azelf        580           4\n699  700                   Cobalion        580           5\n700  701                  Terrakion        580           5\n701  702                   Virizion        580           5\n702  703   Tornadus Incarnate Forme        580           5\n703  704     Tornadus Therian Forme        580           5\n704  705  Thundurus Incarnate Forme        580           5\n538  539                    Mesprit        580           4\n416  417                  Registeel        580           3",
      "text/html": "<div>\n<style scoped>\n    .dataframe tbody tr th:only-of-type {\n        vertical-align: middle;\n    }\n\n    .dataframe tbody tr th {\n        vertical-align: top;\n    }\n\n    .dataframe thead th {\n        text-align: right;\n    }\n</style>\n<table border=\"1\" class=\"dataframe\">\n  <thead>\n    <tr style=\"text-align: right;\">\n      <th></th>\n      <th>#</th>\n      <th>Name</th>\n      <th>Stats_tot</th>\n      <th>Generation</th>\n    </tr>\n  </thead>\n  <tbody>\n    <tr>\n      <th>156</th>\n      <td>157</td>\n      <td>Articuno</td>\n      <td>580</td>\n      <td>1</td>\n    </tr>\n    <tr>\n      <th>539</th>\n      <td>540</td>\n      <td>Azelf</td>\n      <td>580</td>\n      <td>4</td>\n    </tr>\n    <tr>\n      <th>699</th>\n      <td>700</td>\n      <td>Cobalion</td>\n      <td>580</td>\n      <td>5</td>\n    </tr>\n    <tr>\n      <th>700</th>\n      <td>701</td>\n      <td>Terrakion</td>\n      <td>580</td>\n      <td>5</td>\n    </tr>\n    <tr>\n      <th>701</th>\n      <td>702</td>\n      <td>Virizion</td>\n      <td>580</td>\n      <td>5</td>\n    </tr>\n    <tr>\n      <th>702</th>\n      <td>703</td>\n      <td>Tornadus Incarnate Forme</td>\n      <td>580</td>\n      <td>5</td>\n    </tr>\n    <tr>\n      <th>703</th>\n      <td>704</td>\n      <td>Tornadus Therian Forme</td>\n      <td>580</td>\n      <td>5</td>\n    </tr>\n    <tr>\n      <th>704</th>\n      <td>705</td>\n      <td>Thundurus Incarnate Forme</td>\n      <td>580</td>\n      <td>5</td>\n    </tr>\n    <tr>\n      <th>538</th>\n      <td>539</td>\n      <td>Mesprit</td>\n      <td>580</td>\n      <td>4</td>\n    </tr>\n    <tr>\n      <th>416</th>\n      <td>417</td>\n      <td>Registeel</td>\n      <td>580</td>\n      <td>3</td>\n    </tr>\n  </tbody>\n</table>\n</div>"
     },
     "execution_count": 28,
     "metadata": {},
     "output_type": "execute_result"
    }
   ],
   "source": [
    "#Elenco dei 10 pokemon leggendari più deboli\n",
    "legendary_pokemon[['#','Name','Stats_tot','Generation']].sort_values(by=['Stats_tot'],ascending=True).head(10)"
   ],
   "metadata": {
    "collapsed": false,
    "pycharm": {
     "name": "#%%\n"
    }
   }
  },
  {
   "cell_type": "markdown",
   "source": [
    "<h5> Effettuiamo adesso un'analisi generazionale sulle statistiche dei pokemon per valutare quali differenze presentano le varie generazioni</h5>"
   ],
   "metadata": {
    "collapsed": false
   }
  },
  {
   "cell_type": "code",
   "execution_count": 29,
   "outputs": [
    {
     "data": {
      "text/plain": "<Figure size 432x288 with 1 Axes>",
      "image/png": "[encoded data removed]"
     },
     "metadata": {
      "needs_background": "light"
     },
     "output_type": "display_data"
    },
    {
     "data": {
      "text/plain": "<Figure size 864x432 with 0 Axes>"
     },
     "metadata": {},
     "output_type": "display_data"
    }
   ],
   "source": [
    "# Numero di Pokemon appartenenti alle varie generazioni\n",
    "sns.countplot(x='Generation',data=pokemon_table,order=pokemon_table['Generation'].value_counts().index)\n",
    "plt.figure(figsize=(12,6))\n",
    "plt.show()"
   ],
   "metadata": {
    "collapsed": false,
    "pycharm": {
     "name": "#%%\n"
    }
   }
  },
  {
   "cell_type": "code",
   "execution_count": 30,
   "outputs": [
    {
     "data": {
      "text/plain": "<Figure size 432x288 with 1 Axes>",
      "image/png": "[encoded data removed]"
     },
     "metadata": {
      "needs_background": "light"
     },
     "output_type": "display_data"
    },
    {
     "data": {
      "text/plain": "<Figure size 864x432 with 0 Axes>"
     },
     "metadata": {},
     "output_type": "display_data"
    }
   ],
   "source": [
    "#Vediamo come cambiano le statistiche totali dei vari pokemon tra le generazioni\n",
    "poke_gen_stats=pokemon_table.groupby('Generation')\n",
    "poke_mean_gen_stats=poke_gen_stats.mean()\n",
    "sns.pointplot(x=poke_mean_gen_stats.index.values, y=poke_mean_gen_stats['Stats_tot'])\n",
    "plt.figure(figsize=(12,6))\n",
    "plt.show()"
   ],
   "metadata": {
    "collapsed": false,
    "pycharm": {
     "name": "#%%\n"
    }
   }
  },
  {
   "cell_type": "code",
   "execution_count": 31,
   "outputs": [
    {
     "data": {
      "text/plain": "<Figure size 432x288 with 1 Axes>",
      "image/png": "[encoded data removed]"
     },
     "metadata": {
      "needs_background": "light"
     },
     "output_type": "display_data"
    }
   ],
   "source": [
    "#Cerchiamo la differenza nelle statistiche singole tra le varie generazioni, per vedere quali siano le variazioni pù significative.\n",
    "#HP\n",
    "sns.barplot(x=poke_mean_gen_stats.index.values ,y=poke_mean_gen_stats['HP'])\n",
    "plt.ylim(60,80)\n",
    "plt.show()"
   ],
   "metadata": {
    "collapsed": false,
    "pycharm": {
     "name": "#%%\n"
    }
   }
  },
  {
   "cell_type": "code",
   "execution_count": 32,
   "outputs": [
    {
     "data": {
      "text/plain": "<Figure size 432x288 with 1 Axes>",
      "image/png": "[encoded data removed]"
     },
     "metadata": {
      "needs_background": "light"
     },
     "output_type": "display_data"
    }
   ],
   "source": [
    "#Attack\n",
    "sns.barplot(x=poke_mean_gen_stats.index.values ,y=poke_mean_gen_stats['Attack'])\n",
    "plt.ylim(70,90)\n",
    "plt.show()"
   ],
   "metadata": {
    "collapsed": false,
    "pycharm": {
     "name": "#%%\n"
    }
   }
  },
  {
   "cell_type": "code",
   "execution_count": 33,
   "outputs": [
    {
     "data": {
      "text/plain": "<Figure size 432x288 with 1 Axes>",
      "image/png": "[encoded data removed]"
     },
     "metadata": {
      "needs_background": "light"
     },
     "output_type": "display_data"
    }
   ],
   "source": [
    "#Defence\n",
    "sns.barplot(x=poke_mean_gen_stats.index.values ,y=poke_mean_gen_stats['Defense'])\n",
    "plt.ylim(60,80)\n",
    "plt.show()"
   ],
   "metadata": {
    "collapsed": false,
    "pycharm": {
     "name": "#%%\n"
    }
   }
  },
  {
   "cell_type": "code",
   "execution_count": 34,
   "outputs": [
    {
     "data": {
      "text/plain": "<Figure size 432x288 with 1 Axes>",
      "image/png": "[encoded data removed]"
     },
     "metadata": {
      "needs_background": "light"
     },
     "output_type": "display_data"
    }
   ],
   "source": [
    "#Special Attack\n",
    "sns.barplot(x=poke_mean_gen_stats.index.values ,y=poke_mean_gen_stats['Sp. Atk'])\n",
    "plt.ylim(60,80)\n",
    "plt.show()"
   ],
   "metadata": {
    "collapsed": false,
    "pycharm": {
     "name": "#%%\n"
    }
   }
  },
  {
   "cell_type": "code",
   "execution_count": 35,
   "outputs": [
    {
     "data": {
      "text/plain": "<Figure size 432x288 with 1 Axes>",
      "image/png": "[encoded data removed]"
     },
     "metadata": {
      "needs_background": "light"
     },
     "output_type": "display_data"
    }
   ],
   "source": [
    "#Special Defence\n",
    "sns.barplot(x=poke_mean_gen_stats.index.values ,y=poke_mean_gen_stats['Sp. Def'])\n",
    "plt.ylim(60,80)\n",
    "plt.show()"
   ],
   "metadata": {
    "collapsed": false,
    "pycharm": {
     "name": "#%%\n"
    }
   }
  },
  {
   "cell_type": "code",
   "execution_count": 36,
   "outputs": [
    {
     "data": {
      "text/plain": "<Figure size 432x288 with 1 Axes>",
      "image/png": "[encoded data removed]"
     },
     "metadata": {
      "needs_background": "light"
     },
     "output_type": "display_data"
    }
   ],
   "source": [
    "sns.barplot(x=poke_mean_gen_stats.index.values ,y=poke_mean_gen_stats['Speed'])\n",
    "plt.ylim(60,80)\n",
    "plt.show()"
   ],
   "metadata": {
    "collapsed": false,
    "pycharm": {
     "name": "#%%\n"
    }
   }
  },
  {
   "cell_type": "markdown",
   "source": [
    "<h5> Possiamo notare come non ci siano sostanziali differenze nell'introduzione delle varie generazioni. In paarticolare la generazione 2 sembra quella più carente nelle statistiche dei pokemon introdotti. Mentre le generazioni 3 e 4 sembrano aver introdotto i pokemon più forti per la maggior parte delle statistiche.</h5>\n",
    "La colonna relativa alle generazioni dei vari pokemon potrà essere scartata poiché non aggiunge alcuna informazione aggiuntiva o rilevante ai fini della nostra analisi. Infatti, a grandi linee i pokemon si aggirano, chi più chi meno, sulle stesse statistiche per ogni generazione."
   ],
   "metadata": {
    "collapsed": false,
    "pycharm": {
     "name": "#%% md\n"
    }
   }
  },
  {
   "cell_type": "markdown",
   "source": [
    "<h4> Effettuiamo analisi sulle battaglie, cercando di individuare quali siano i pokemon che hanno vinto più battaglie al fine di individuare quelli con maggior tasso di vittoria e di sconfitta."
   ],
   "metadata": {
    "collapsed": false,
    "pycharm": {
     "name": "#%% md\n"
    }
   }
  },
  {
   "cell_type": "code",
   "execution_count": 37,
   "outputs": [
    {
     "data": {
      "text/plain": "      First_pokemon Second_pokemon            Winner\n0  Mega Charizard X       Sigilyph  Mega Charizard X\n1         Tangrowth   Mega Slowbro         Tangrowth\n2            Oddish       Samurott          Samurott\n3           Tropius     Mega Absol        Mega Absol\n4           Anorith         Stunky           Anorith",
      "text/html": "<div>\n<style scoped>\n    .dataframe tbody tr th:only-of-type {\n        vertical-align: middle;\n    }\n\n    .dataframe tbody tr th {\n        vertical-align: top;\n    }\n\n    .dataframe thead th {\n        text-align: right;\n    }\n</style>\n<table border=\"1\" class=\"dataframe\">\n  <thead>\n    <tr style=\"text-align: right;\">\n      <th></th>\n      <th>First_pokemon</th>\n      <th>Second_pokemon</th>\n      <th>Winner</th>\n    </tr>\n  </thead>\n  <tbody>\n    <tr>\n      <th>0</th>\n      <td>Mega Charizard X</td>\n      <td>Sigilyph</td>\n      <td>Mega Charizard X</td>\n    </tr>\n    <tr>\n      <th>1</th>\n      <td>Tangrowth</td>\n      <td>Mega Slowbro</td>\n      <td>Tangrowth</td>\n    </tr>\n    <tr>\n      <th>2</th>\n      <td>Oddish</td>\n      <td>Samurott</td>\n      <td>Samurott</td>\n    </tr>\n    <tr>\n      <th>3</th>\n      <td>Tropius</td>\n      <td>Mega Absol</td>\n      <td>Mega Absol</td>\n    </tr>\n    <tr>\n      <th>4</th>\n      <td>Anorith</td>\n      <td>Stunky</td>\n      <td>Anorith</td>\n    </tr>\n  </tbody>\n</table>\n</div>"
     },
     "execution_count": 37,
     "metadata": {},
     "output_type": "execute_result"
    }
   ],
   "source": [
    "#Importo i nomi dei vari pokemon così da poter dare un senso alle varie battaglie e gloria ai vincitori!\n",
    "dict_nomi=dict(zip(pokemon_table['#'],pokemon_table['Name']))\n",
    "analisi_ds=analisi_ds[['First_pokemon','Second_pokemon','Winner']].replace(dict_nomi)\n",
    "analisi_ds.head()"
   ],
   "metadata": {
    "collapsed": false,
    "pycharm": {
     "name": "#%%\n"
    }
   }
  },
  {
   "cell_type": "code",
   "execution_count": 38,
   "outputs": [],
   "source": [
    "#Conteggio vittorie e partenze nella battaglia per i pokemon coinvolti\n",
    "parte_primo=analisi_ds['First_pokemon'].value_counts()\n",
    "parte_secondo=analisi_ds['Second_pokemon'].value_counts()\n",
    "vincitore=analisi_ds['Winner'].value_counts()"
   ],
   "metadata": {
    "collapsed": false,
    "pycharm": {
     "name": "#%%\n"
    }
   }
  },
  {
   "cell_type": "code",
   "execution_count": 39,
   "outputs": [],
   "source": [
    "#Calcolo percentuale di vittorie per i vari pokemon\n",
    "battaglie_tot=parte_primo+parte_secondo\n",
    "perc_vincitore=vincitore/battaglie_tot"
   ],
   "metadata": {
    "collapsed": false,
    "pycharm": {
     "name": "#%%\n"
    }
   }
  },
  {
   "cell_type": "code",
   "execution_count": 40,
   "outputs": [],
   "source": [
    "perc_vincitore=perc_vincitore.sort_values(ascending=False)"
   ],
   "metadata": {
    "collapsed": false,
    "pycharm": {
     "name": "#%%\n"
    }
   }
  },
  {
   "cell_type": "code",
   "execution_count": 41,
   "outputs": [
    {
     "data": {
      "text/plain": "Mega Aerodactyl           0.981818\nWeavile                   0.977778\nMega Lopunny              0.971154\nGreninja                  0.963303\nRaikou                    0.962500\nTornadus Therian Forme    0.960396\nAccelgor                  0.959596\nMega Beedrill             0.957895\nAerodactyl                0.955752\nMega Houndoom             0.953271\ndtype: float64"
     },
     "execution_count": 41,
     "metadata": {},
     "output_type": "execute_result"
    }
   ],
   "source": [
    "#Vediamo chi sono i primi 10 pokemon con il tasso di vittorie più elevato\n",
    "perc_vincitore.head(10)"
   ],
   "metadata": {
    "collapsed": false,
    "pycharm": {
     "name": "#%%\n"
    }
   }
  },
  {
   "cell_type": "code",
   "execution_count": 42,
   "outputs": [
    {
     "data": {
      "text/plain": "Cascoon    0.054054\nSpheal     0.049020\nWynaut     0.046729\nSentret    0.043956\nSolosis    0.038835\nTogepi     0.031915\nSilcoon    0.030612\nMunna      0.028571\nSlugma     0.020833\nShuckle         NaN\ndtype: float64"
     },
     "execution_count": 42,
     "metadata": {},
     "output_type": "execute_result"
    }
   ],
   "source": [
    "#Vediamo chi sono i 10 pokemon con il tasso di vittorie più basso\n",
    "perc_vincitore.tail(10)"
   ],
   "metadata": {
    "collapsed": false,
    "pycharm": {
     "name": "#%%\n"
    }
   }
  },
  {
   "cell_type": "code",
   "execution_count": 43,
   "outputs": [
    {
     "data": {
      "text/plain": "Mewtwo                64.0\nMega Aerodactyl       58.0\nWeavile               55.0\nInfernape             55.0\nShaymin Sky Forme     55.0\nLopunny               55.0\nMega Salamence        55.0\nDeoxys Speed Forme    54.0\nMega Beedrill         52.0\nScyther               51.0\ndtype: float64"
     },
     "execution_count": 43,
     "metadata": {},
     "output_type": "execute_result"
    }
   ],
   "source": [
    "#Vediamo quali sono i pokemon che vincono più spesso partendo per primi\n",
    "vittorie_primo=vincitore-parte_secondo\n",
    "vittorie_primo.sort_values(na_position='last',ascending=False).head(10)"
   ],
   "metadata": {
    "collapsed": false,
    "pycharm": {
     "name": "#%%\n"
    }
   }
  },
  {
   "cell_type": "code",
   "execution_count": 44,
   "outputs": [
    {
     "data": {
      "text/plain": "Aerodactyl       56.0\nMega Sceptile    55.0\nMega Absol       55.0\nStarmie          54.0\nMega Mewtwo Y    54.0\nCobalion         53.0\nDarkrai          53.0\nGreninja         53.0\nMewtwo           53.0\nSneasel          52.0\ndtype: float64"
     },
     "execution_count": 44,
     "metadata": {},
     "output_type": "execute_result"
    }
   ],
   "source": [
    "#Vediamo quali sono i pokemon che invece riescono a vincere pur partendo per secondi\n",
    "vittorie_secondo=vincitore-parte_primo\n",
    "vittorie_secondo.sort_values(na_position='last',ascending=False).head(10)"
   ],
   "metadata": {
    "collapsed": false,
    "pycharm": {
     "name": "#%%\n"
    }
   }
  },
  {
   "cell_type": "markdown",
   "source": [
    "<h7>Dall'analisi delle varie battaglie, possiamo notare come in cima a queste classifiche troviamo pokemon che hanno un elevato valore nelle statistiche, soprattuto in quelle Attack e Speed.\n",
    "La maggior parte di questi pokemon inoltre, oltre ad avere un valore di statistiche individuali e totali molto elevato, appartiene alla categoria leggendari.\n",
    "Inoltre possiamo notare come i pokemon in queste particolari classifiche appartengono tutti a generazioni diverse, confermando quanto detto in precedenza."
   ],
   "metadata": {
    "collapsed": false,
    "pycharm": {
     "name": "#%% md\n"
    }
   }
  },
  {
   "cell_type": "markdown",
   "source": [
    "<h2> 3. Manipolazione dei dati e preparazione del dataset</h2>\n",
    "In questa fase andiamo a preparare i dati di test e train. Da tutta l'analisi svolta possiamo considerare nel nostro dataset le varie statistiche relative ai pokemon, nonché generazione di appartenenza e il flag per identificare se un pokemon è leggendario.\n",
    "Elimineremo i dati relativi ai Nomi, Generazioni, Statistiche totali, Tipo 1 e Tipo 2, poiché sono poco rilevanti per la nostra classificazione delle battaglie in base alle analisi svolte fin'ora."
   ],
   "metadata": {
    "collapsed": false,
    "pycharm": {
     "name": "#%% md\n"
    }
   }
  },
  {
   "cell_type": "code",
   "execution_count": 45,
   "outputs": [],
   "source": [
    "#Iniziamo mappando il campo legendary: 1 se il pokemon è leggendario, 0 altrimenti\n",
    "from sklearn.preprocessing import LabelEncoder\n",
    "label_encoder=LabelEncoder()\n",
    "pokemon_table['Legendary']=label_encoder.fit_transform(pokemon_table['Legendary'])"
   ],
   "metadata": {
    "collapsed": false,
    "pycharm": {
     "name": "#%%\n"
    }
   }
  },
  {
   "cell_type": "markdown",
   "source": [
    "<h7>Inseriamo nel train e test set le statistiche relative ai vari pokemon coinvolti nella battaglia. </h7>"
   ],
   "metadata": {
    "collapsed": false
   }
  },
  {
   "cell_type": "code",
   "execution_count": 46,
   "outputs": [],
   "source": [
    "#Preparo i dizionari per le varie statistiche\n",
    "hp_dict = dict(zip(pokemon_table['#'], pokemon_table['HP']))\n",
    "attack_dict = dict(zip(pokemon_table['#'], pokemon_table['Attack']))\n",
    "defense_dict = dict(zip(pokemon_table['#'], pokemon_table['Defense']))\n",
    "spattack_dict = dict(zip(pokemon_table['#'], pokemon_table['Sp. Atk']))\n",
    "spdefense_dict = dict(zip(pokemon_table['#'], pokemon_table['Sp. Def']))\n",
    "speed_dict = dict(zip(pokemon_table['#'], pokemon_table['Speed']))\n",
    "legendary_dict = dict(zip(pokemon_table['#'], pokemon_table['Legendary']))\n"
   ],
   "metadata": {
    "collapsed": false,
    "pycharm": {
     "name": "#%%\n"
    }
   }
  },
  {
   "cell_type": "code",
   "execution_count": 47,
   "outputs": [],
   "source": [
    "#Copio il train e test dataset perché farò ulteriori modifiche ai dati per un secondo studio\n"
   ],
   "metadata": {
    "collapsed": false,
    "pycharm": {
     "name": "#%%#\n"
    }
   }
  },
  {
   "cell_type": "code",
   "execution_count": 48,
   "outputs": [],
   "source": [
    "#Andiamo a mappare i dati delle vittorie delle battaglie. Avremo 0, se sar il primo pokemon a vincere lo scontro, 1 altrimenti\n",
    "\n",
    "train_ds.Winner[train_ds.Winner==train_ds.First_pokemon]=0\n",
    "train_ds.Winner[train_ds.Winner==train_ds.Second_pokemon]=1\n",
    "\n",
    "test_ds.Winner[test_ds.Winner==test_ds.First_pokemon]=0\n",
    "test_ds.Winner[test_ds.Winner==test_ds.Second_pokemon]=1"
   ],
   "metadata": {
    "collapsed": false,
    "pycharm": {
     "name": "#%%\n"
    }
   }
  },
  {
   "cell_type": "code",
   "execution_count": 49,
   "outputs": [],
   "source": [
    "#Train DS\n",
    "#Primo pokemon\n",
    "\n",
    "train_ds['First_HP']=train_ds['First_pokemon'].replace(hp_dict)\n",
    "train_ds['First_Attack']=train_ds['First_pokemon'].replace(attack_dict)\n",
    "train_ds['First_Defence']=train_ds['First_pokemon'].replace(defense_dict)\n",
    "train_ds['First_Sp_Atk']=train_ds['First_pokemon'].replace(spattack_dict)\n",
    "train_ds['First_Sp_Def']=train_ds['First_pokemon'].replace(spdefense_dict)\n",
    "train_ds['First_Speed']=train_ds['First_pokemon'].replace(speed_dict)\n",
    "\n",
    "train_ds['First_Legendary']=train_ds['First_pokemon'].replace(legendary_dict)\n",
    "\n",
    "#Secondo pokemon\n",
    "train_ds['Second_HP']=train_ds['Second_pokemon'].replace(hp_dict)\n",
    "train_ds['Second_Attack']=train_ds['Second_pokemon'].replace(attack_dict)\n",
    "train_ds['Second_Defence']=train_ds['Second_pokemon'].replace(defense_dict)\n",
    "train_ds['Second_Sp_Atk']=train_ds['Second_pokemon'].replace(spattack_dict)\n",
    "train_ds['Second_Sp_Def']=train_ds['Second_pokemon'].replace(spdefense_dict)\n",
    "train_ds['Second_Speed']=train_ds['Second_pokemon'].replace(speed_dict)\n",
    "\n",
    "train_ds['Second_Legendary']=train_ds['Second_pokemon'].replace(legendary_dict)\n"
   ],
   "metadata": {
    "collapsed": false,
    "pycharm": {
     "name": "#%%\n"
    }
   }
  },
  {
   "cell_type": "code",
   "execution_count": 50,
   "outputs": [],
   "source": [
    "#Test DS\n",
    "#Primo pokemon\n",
    "test_ds['First_HP']=test_ds['First_pokemon'].replace(hp_dict)\n",
    "test_ds['First_Attack']=test_ds['First_pokemon'].replace(attack_dict)\n",
    "test_ds['First_Defence']=test_ds['First_pokemon'].replace(defense_dict)\n",
    "test_ds['First_Sp_Atk']=test_ds['First_pokemon'].replace(spattack_dict)\n",
    "test_ds['First_Sp_Def']=test_ds['First_pokemon'].replace(spdefense_dict)\n",
    "test_ds['First_Speed']=test_ds['First_pokemon'].replace(speed_dict)\n",
    "test_ds['First_Legendary']=test_ds['First_pokemon'].replace(legendary_dict)\n",
    "\n",
    "#Secondo pokemon\n",
    "test_ds['Second_HP']=test_ds['Second_pokemon'].replace(hp_dict)\n",
    "test_ds['Second_Attack']=test_ds['Second_pokemon'].replace(attack_dict)\n",
    "test_ds['Second_Defence']=test_ds['Second_pokemon'].replace(defense_dict)\n",
    "test_ds['Second_Sp_Atk']=test_ds['Second_pokemon'].replace(spattack_dict)\n",
    "test_ds['Second_Sp_Def']=test_ds['Second_pokemon'].replace(spdefense_dict)\n",
    "test_ds['Second_Speed']=test_ds['Second_pokemon'].replace(speed_dict)\n",
    "test_ds['Second_Legendary']=test_ds['Second_pokemon'].replace(legendary_dict)"
   ],
   "metadata": {
    "collapsed": false,
    "pycharm": {
     "name": "#%%\n"
    }
   }
  },
  {
   "cell_type": "code",
   "execution_count": 51,
   "outputs": [],
   "source": [
    "#Prepariamo il dataset\n",
    "Y_train=train_ds['Winner']\n",
    "Y_test=test_ds['Winner']\n",
    "X_train=train_ds.drop(['Winner'],axis=1)\n",
    "X_test=test_ds.drop(['Winner'],axis=1)"
   ],
   "metadata": {
    "collapsed": false,
    "pycharm": {
     "name": "#%%\n"
    }
   }
  },
  {
   "cell_type": "code",
   "execution_count": 52,
   "outputs": [
    {
     "data": {
      "text/plain": "(30000, 16)"
     },
     "execution_count": 52,
     "metadata": {},
     "output_type": "execute_result"
    }
   ],
   "source": [
    "X_test.shape\n",
    "X_train.shape"
   ],
   "metadata": {
    "collapsed": false,
    "pycharm": {
     "name": "#%%\n"
    }
   }
  },
  {
   "cell_type": "code",
   "execution_count": 53,
   "outputs": [],
   "source": [
    "#Import librerie\n",
    "import sklearn.metrics as metrics\n",
    "from sklearn.linear_model import LogisticRegression\n",
    "from sklearn.ensemble import RandomForestClassifier\n",
    "from sklearn.neighbors import KNeighborsClassifier\n",
    "from sklearn.tree import DecisionTreeClassifier\n",
    "from sklearn.ensemble import AdaBoostClassifier\n",
    "from sklearn.naive_bayes import GaussianNB\n",
    "from sklearn.ensemble import GradientBoostingClassifier"
   ],
   "metadata": {
    "collapsed": false,
    "pycharm": {
     "name": "#%%\n"
    }
   }
  },
  {
   "cell_type": "code",
   "execution_count": 54,
   "outputs": [
    {
     "name": "stdout",
     "output_type": "stream",
     "text": [
      "Test accuracy random forest: [0.9476]\n",
      "Random forest MAE: 0.0524\n"
     ]
    }
   ],
   "source": [
    "#Random Forest\n",
    "rnd_forest=RandomForestClassifier(random_state=42)\n",
    "rnd_forest.fit(X_train,Y_train)\n",
    "predictions_rnd_forest=rnd_forest.predict(X_test)\n",
    "test_acc_rndf= [rnd_forest.score(X_test, Y_test)]\n",
    "print(\"Test accuracy random forest:\",test_acc_rndf)\n",
    "print(\"Random forest MAE:\",metrics.mean_absolute_error(Y_test,predictions_rnd_forest))"
   ],
   "metadata": {
    "collapsed": false,
    "pycharm": {
     "name": "#%%\n"
    }
   }
  },
  {
   "cell_type": "code",
   "execution_count": 55,
   "outputs": [
    {
     "name": "stdout",
     "output_type": "stream",
     "text": [
      "Test Accuracy Decision Tree [0.9214]\n",
      "Decision Tree MAE: 0.0786\n"
     ]
    }
   ],
   "source": [
    "#Decision Tree Classifier\n",
    "dt=DecisionTreeClassifier(random_state=42, criterion=\"gini\")\n",
    "dt.fit(X_train,Y_train)\n",
    "predictions_dt=dt.predict(X_test)\n",
    "test_dt= [dt.score(X_test, Y_test)]\n",
    "print(\"Test Accuracy Decision Tree\",test_dt)\n",
    "print(\"Decision Tree MAE:\",metrics.mean_absolute_error(Y_test,predictions_dt))"
   ],
   "metadata": {
    "collapsed": false,
    "pycharm": {
     "name": "#%%\n"
    }
   }
  },
  {
   "cell_type": "code",
   "execution_count": 56,
   "outputs": [
    {
     "name": "stdout",
     "output_type": "stream",
     "text": [
      "Test accuracy Adaboost: [0.8547]\n",
      "Adaboost MAE 0.1453\n"
     ]
    }
   ],
   "source": [
    "ada=AdaBoostClassifier(n_estimators=50, random_state=0)\n",
    "ada.fit(X_train,Y_train)\n",
    "predictions_ada=ada.predict(X_test)\n",
    "test_ada=[ada.score(X_test,Y_test)]\n",
    "print(\"Test accuracy Adaboost:\",test_ada)\n",
    "print(\"Adaboost MAE\",metrics.mean_absolute_error(Y_test,predictions_ada))"
   ],
   "metadata": {
    "collapsed": false,
    "pycharm": {
     "name": "#%%\n"
    }
   }
  },
  {
   "cell_type": "code",
   "execution_count": 57,
   "outputs": [
    {
     "name": "stdout",
     "output_type": "stream",
     "text": [
      "Test accuracy KNeighbors: [0.8167]\n",
      "KNeighbors MAE: 0.1833\n"
     ]
    }
   ],
   "source": [
    "#KneighborsClassifier\n",
    "knc=KNeighborsClassifier(n_neighbors=42)\n",
    "knc.fit(X_train,Y_train)\n",
    "predictions_knc=knc.predict(X_test)\n",
    "test_knc= [knc.score(X_test, Y_test)]\n",
    "print(\"Test accuracy KNeighbors:\",test_knc)\n",
    "print(\"KNeighbors MAE:\",metrics.mean_absolute_error(Y_test,predictions_knc))"
   ],
   "metadata": {
    "collapsed": false,
    "pycharm": {
     "name": "#%%\n"
    }
   }
  },
  {
   "cell_type": "code",
   "execution_count": 58,
   "outputs": [
    {
     "name": "stdout",
     "output_type": "stream",
     "text": [
      "Test accuracy logistic regression: [0.887]\n",
      "Logistic Regression MAE: 0.113\n"
     ]
    }
   ],
   "source": [
    "#Logistic Regression\n",
    "log_regr=LogisticRegression(max_iter=6000,solver='lbfgs')\n",
    "log_regr.fit(X_train,Y_train)\n",
    "predictions_log_regr=log_regr.predict(X_test)\n",
    "test_acc_logr= [log_regr.score(X_test, Y_test)]\n",
    "print(\"Test accuracy logistic regression:\",test_acc_logr)\n",
    "print(\"Logistic Regression MAE:\",metrics.mean_absolute_error(Y_test,predictions_log_regr))"
   ],
   "metadata": {
    "collapsed": false,
    "pycharm": {
     "name": "#%%\n"
    }
   }
  },
  {
   "cell_type": "code",
   "execution_count": 59,
   "outputs": [
    {
     "name": "stdout",
     "output_type": "stream",
     "text": [
      "Test accuracy Naive-Bayes: [0.7918]\n",
      "Naive-Bayes MAE: 0.2082\n"
     ]
    }
   ],
   "source": [
    "#Naive-Bayes\n",
    "nb_m=GaussianNB()\n",
    "nb_m.fit(X_train,Y_train)\n",
    "predictions_nb_m=nb_m.predict(X_test)\n",
    "test_acc_nb_m= [nb_m.score(X_test, Y_test)]\n",
    "print(\"Test accuracy Naive-Bayes:\",test_acc_nb_m)\n",
    "print(\"Naive-Bayes MAE:\",metrics.mean_absolute_error(Y_test,predictions_nb_m))"
   ],
   "metadata": {
    "collapsed": false,
    "pycharm": {
     "name": "#%%\n"
    }
   }
  },
  {
   "cell_type": "code",
   "execution_count": 60,
   "outputs": [
    {
     "name": "stdout",
     "output_type": "stream",
     "text": [
      "Test accuracy Gradient Boosting: [0.9221]\n",
      "Gradient Boosting MAE: 0.0779\n"
     ]
    }
   ],
   "source": [
    "#Gradient-Boosting\n",
    "gbc=GradientBoostingClassifier(n_estimators=100, random_state=42)\n",
    "gbc.fit(X_train,Y_train)\n",
    "predictions_gbc=gbc.predict(X_test)\n",
    "test_acc_gbc= [gbc.score(X_test, Y_test)]\n",
    "print(\"Test accuracy Gradient Boosting:\",test_acc_gbc)\n",
    "print(\"Gradient Boosting MAE:\",metrics.mean_absolute_error(Y_test,predictions_gbc))"
   ],
   "metadata": {
    "collapsed": false,
    "pycharm": {
     "name": "#%%\n"
    }
   }
  },
  {
   "cell_type": "markdown",
   "source": [
    "<h2>4. Valutazione dei Risultati e delle Prestazioni</h2>\n",
    "CALCOLO CURVE DI ROC PER CONFRONTARE I METODI DI CLASSIFICAZIONE, viste sia nel corso di IA che di ML"
   ],
   "metadata": {
    "collapsed": false,
    "pycharm": {
     "name": "#%% md\n"
    }
   }
  },
  {
   "cell_type": "code",
   "execution_count": 61,
   "outputs": [],
   "source": [
    "#Logistic\n",
    "fp_lr,tp_lr,thres_lr=metrics.roc_curve(Y_test,predictions_log_regr)\n",
    "auc_lr_score=metrics.roc_auc_score(Y_test,predictions_log_regr)\n",
    "#RandomForest\n",
    "fp_rf,tp_rf,thres_rf=metrics.roc_curve(Y_test,predictions_rnd_forest)\n",
    "auc_rf_score=metrics.roc_auc_score(Y_test,predictions_rnd_forest)\n",
    "#KNN\n",
    "fp_kn,tp_kn,thres_kn=metrics.roc_curve(Y_test,predictions_knc)\n",
    "auc_kn_score=metrics.roc_auc_score(Y_test,predictions_knc)\n",
    "#DecisionTree\n",
    "fp_dt,tp_dt,thres_dt=metrics.roc_curve(Y_test,predictions_dt)\n",
    "auc_dt_score=metrics.roc_auc_score(Y_test,predictions_dt)\n",
    "#Adaboost\n",
    "fp_ada,tp_ada,thres_ada=metrics.roc_curve(Y_test,predictions_ada)\n",
    "auc_ada_score=metrics.roc_auc_score(Y_test,predictions_ada)\n",
    "#Naive-Bayes\n",
    "fp_nb,tp_nb,thres_nb=metrics.roc_curve(Y_test,predictions_nb_m)\n",
    "auc_nb_score=metrics.roc_auc_score(Y_test,predictions_nb_m)\n",
    "#Gradient Boosting\n",
    "fp_gbc,tp_gbc,thres_gbc=metrics.roc_curve(Y_test,predictions_gbc)\n",
    "auc_gbc_score=metrics.roc_auc_score(Y_test,predictions_gbc)"
   ],
   "metadata": {
    "collapsed": false,
    "pycharm": {
     "name": "#%%\n"
    }
   }
  },
  {
   "cell_type": "code",
   "execution_count": 62,
   "outputs": [],
   "source": [
    "random_probs=[0 for i in range(len(Y_test))]\n",
    "random_fp,random_tp,_=metrics.roc_curve(Y_test,random_probs,pos_label=1)"
   ],
   "metadata": {
    "collapsed": false,
    "pycharm": {
     "name": "#%%Randomclassifier\n"
    }
   }
  },
  {
   "cell_type": "code",
   "execution_count": 63,
   "outputs": [
    {
     "name": "stdout",
     "output_type": "stream",
     "text": [
      "DecisionTreeClassifier: 0.9207586293672582\n",
      "RandomForestClassifier: 0.9480677305510483\n",
      "KNeighborsClassifier: 0.8161243703161896\n",
      "LogisticRegression: 0.8864445463316797\n",
      "AdaBoostClassifier: 0.8531234217843401\n",
      "Naive-Bayes Classifier: 0.791046346408268\n",
      "GradientBoostingClassifier: 0.9221265318098151\n"
     ]
    }
   ],
   "source": [
    "print(\"DecisionTreeClassifier:\",auc_dt_score)\n",
    "print(\"RandomForestClassifier:\",auc_rf_score)\n",
    "print(\"KNeighborsClassifier:\",auc_kn_score)\n",
    "print(\"LogisticRegression:\",auc_lr_score)\n",
    "print(\"AdaBoostClassifier:\",auc_ada_score)\n",
    "print(\"Naive-Bayes Classifier:\",auc_nb_score)\n",
    "print(\"GradientBoostingClassifier:\",auc_gbc_score)"
   ],
   "metadata": {
    "collapsed": false,
    "pycharm": {
     "name": "#%%\n"
    }
   }
  },
  {
   "cell_type": "code",
   "execution_count": 64,
   "outputs": [
    {
     "data": {
      "text/plain": "<Figure size 576x396 with 1 Axes>",
      "image/png": "[encoded data removed]"
     },
     "metadata": {},
     "output_type": "display_data"
    }
   ],
   "source": [
    "plt.style.use('seaborn')\n",
    "plt.plot(fp_lr,tp_lr,linestyle='--',color='orange', label='LogisticRegression')\n",
    "plt.plot(fp_rf,tp_rf,linestyle='--',color='green', label='RandomForestClassifier')\n",
    "plt.plot(fp_kn,tp_kn,linestyle='--',color='yellow', label='KNeighborsClassifier')\n",
    "plt.plot(fp_dt,tp_dt,linestyle='--',color='red', label='DecisionTreeClassifier')\n",
    "plt.plot(fp_ada,tp_ada,linestyle='--',color='brown', label='AdaBoostClassifier')\n",
    "plt.plot(fp_nb,tp_nb,linestyle='--',color='pink', label='Naive-BayesClassifier')\n",
    "plt.plot(fp_gbc,tp_gbc,linestyle='--',color='cyan', label='GradientBoostingClassifier')\n",
    "plt.plot(random_fp,random_tp,linestyle='--',color='blue')\n",
    "\n",
    "plt.title('ROC curve')\n",
    "plt.xlabel('Rate False positive')\n",
    "plt.ylabel('Rate True positive')\n",
    "plt.legend(loc='best')\n",
    "plt.show();"
   ],
   "metadata": {
    "collapsed": false,
    "pycharm": {
     "name": "#%%\n"
    }
   }
  },
  {
   "cell_type": "code",
   "execution_count": 65,
   "outputs": [
    {
     "data": {
      "text/plain": "<Figure size 576x396 with 2 Axes>",
      "image/png": "[encoded data removed]"
     },
     "metadata": {},
     "output_type": "display_data"
    }
   ],
   "source": [
    "#Matrice confusione per i 3 metodi migliori di classificazione\n",
    "#Random forest\n",
    "cnf_matrix_rf=metrics.confusion_matrix(Y_test,predictions_rnd_forest)\n",
    "group_names=['True Neg','False Pos','False Neg','True Pos']\n",
    "group_perc_rf=['{0:.2%}'.format(value) for value in cnf_matrix_rf.flatten()/np.sum(cnf_matrix_rf)]\n",
    "labels=[f'{v1}\\n{v2}'for v1,v2 in zip(group_names,group_perc_rf)]\n",
    "labels=np.asarray(labels).reshape(2,2)\n",
    "sns.heatmap(pd.DataFrame(cnf_matrix_rf), annot=labels,cmap='OrRd',fmt='')\n",
    "plt.title('RandomForestClassifier Confusion Matrix')\n",
    "plt.ylabel('Actual label')\n",
    "plt.xlabel('Predicted label')\n",
    "plt.show()"
   ],
   "metadata": {
    "collapsed": false,
    "pycharm": {
     "name": "#%%\n"
    }
   }
  },
  {
   "cell_type": "code",
   "execution_count": 66,
   "outputs": [
    {
     "name": "stdout",
     "output_type": "stream",
     "text": [
      "              precision    recall  f1-score   support\n",
      "\n",
      "           0       0.93      0.95      0.94      4659\n",
      "           1       0.96      0.94      0.95      5341\n",
      "\n",
      "    accuracy                           0.95     10000\n",
      "   macro avg       0.95      0.95      0.95     10000\n",
      "weighted avg       0.95      0.95      0.95     10000\n",
      "\n"
     ]
    }
   ],
   "source": [
    "print(metrics.classification_report(Y_test,predictions_rnd_forest))"
   ],
   "metadata": {
    "collapsed": false,
    "pycharm": {
     "name": "#%%\n"
    }
   }
  },
  {
   "cell_type": "code",
   "execution_count": 67,
   "outputs": [
    {
     "data": {
      "text/plain": "<Figure size 576x396 with 2 Axes>",
      "image/png": "[encoded data removed]"
     },
     "metadata": {},
     "output_type": "display_data"
    }
   ],
   "source": [
    "#Decision tree\n",
    "cnf_matrix_dt=metrics.confusion_matrix(Y_test,predictions_dt)\n",
    "group_perc_rf=['{0:.2%}'.format(value) for value in cnf_matrix_dt.flatten()/np.sum(cnf_matrix_dt)]\n",
    "labels=[f'{v1}\\n{v2}'for v1,v2 in zip(group_names,group_perc_rf)]\n",
    "labels=np.asarray(labels).reshape(2,2)\n",
    "sns.heatmap(pd.DataFrame(cnf_matrix_dt), annot=labels,cmap='Blues',fmt='')\n",
    "plt.title('DecisionTreeClassifier Confusion Matrix')\n",
    "plt.ylabel('Actual label')\n",
    "plt.xlabel('Predicted label')\n",
    "plt.show()"
   ],
   "metadata": {
    "collapsed": false,
    "pycharm": {
     "name": "#%%\n"
    }
   }
  },
  {
   "cell_type": "code",
   "execution_count": 68,
   "outputs": [
    {
     "name": "stdout",
     "output_type": "stream",
     "text": [
      "              precision    recall  f1-score   support\n",
      "\n",
      "           0       0.92      0.91      0.92      4659\n",
      "           1       0.92      0.93      0.93      5341\n",
      "\n",
      "    accuracy                           0.92     10000\n",
      "   macro avg       0.92      0.92      0.92     10000\n",
      "weighted avg       0.92      0.92      0.92     10000\n",
      "\n"
     ]
    }
   ],
   "source": [
    "print(metrics.classification_report(Y_test,predictions_dt))"
   ],
   "metadata": {
    "collapsed": false,
    "pycharm": {
     "name": "#%%\n"
    }
   }
  },
  {
   "cell_type": "code",
   "execution_count": 69,
   "outputs": [
    {
     "data": {
      "text/plain": "<Figure size 576x396 with 2 Axes>",
      "image/png": "[encoded data removed]"
     },
     "metadata": {},
     "output_type": "display_data"
    }
   ],
   "source": [
    "#Gradient boosting\n",
    "cnf_matrix_gb=metrics.confusion_matrix(Y_test,predictions_gbc)\n",
    "group_perc_gb=['{0:.2%}'.format(value) for value in cnf_matrix_gb.flatten()/np.sum(cnf_matrix_gb)]\n",
    "labels=[f'{v1}\\n{v2}'for v1,v2 in zip(group_names,group_perc_rf)]\n",
    "labels=np.asarray(labels).reshape(2,2)\n",
    "sns.heatmap(pd.DataFrame(cnf_matrix_gb)/np.sum(cnf_matrix_gb), fmt='', annot=labels,cmap='Greens')\n",
    "plt.title('GradientBoostingClassifier Confusion Matrix')\n",
    "plt.ylabel('Actual label')\n",
    "plt.xlabel('Predicted label')\n",
    "plt.show()"
   ],
   "metadata": {
    "collapsed": false,
    "pycharm": {
     "name": "#%%\n"
    }
   }
  },
  {
   "cell_type": "code",
   "execution_count": 70,
   "outputs": [
    {
     "name": "stdout",
     "output_type": "stream",
     "text": [
      "              precision    recall  f1-score   support\n",
      "\n",
      "           0       0.91      0.92      0.92      4659\n",
      "           1       0.93      0.92      0.93      5341\n",
      "\n",
      "    accuracy                           0.92     10000\n",
      "   macro avg       0.92      0.92      0.92     10000\n",
      "weighted avg       0.92      0.92      0.92     10000\n",
      "\n"
     ]
    }
   ],
   "source": [
    "print(metrics.classification_report(Y_test,predictions_gbc))"
   ],
   "metadata": {
    "collapsed": false,
    "pycharm": {
     "name": "#%%\n"
    }
   }
  },
  {
   "cell_type": "code",
   "execution_count": 71,
   "outputs": [],
   "source": [
    "#Mostriamno le predizioni ottenuti dalla Random Forest, che è il classificatore che ha ottenuto un punteggio più elevato rispetto agli altri metodi di classificazione scelti.\n",
    "#Preparazione dei dati per mostrare i risultati ottenuti\n",
    "prediction_rf=X_test\n",
    "prediction_rf['Winner']=predictions_rnd_forest\n",
    "prediction_rf['Winner'][prediction_rf['Winner']==0]=prediction_rf['First_pokemon']\n",
    "prediction_rf['Winner'][prediction_rf['Winner']==1]=prediction_rf['Second_pokemon']"
   ],
   "metadata": {
    "collapsed": false,
    "pycharm": {
     "name": "#%%\n"
    }
   }
  },
  {
   "cell_type": "code",
   "execution_count": 72,
   "outputs": [],
   "source": [
    "#Non vogliamo conoscere solo i numeri, vediamo chi sono i campioni\n",
    "prediction_rf['First_p_name']=prediction_rf[['First_pokemon']].replace(dict_nomi)\n",
    "prediction_rf['Second_p_name']=prediction_rf[['Second_pokemon']].replace(dict_nomi)\n",
    "prediction_rf['Name_Winner']=prediction_rf[['Winner']].replace(dict_nomi)\n",
    "prediction_rf=prediction_rf.drop(columns=['First_HP','First_Attack','First_Defence','First_Sp_Atk','First_Sp_Def','First_Speed','First_Legendary','Second_HP','Second_Attack','Second_Defence','Second_Sp_Atk','Second_Sp_Def','Second_Speed','Second_Legendary'],axis=1)"
   ],
   "metadata": {
    "collapsed": false,
    "pycharm": {
     "name": "#%%\n"
    }
   }
  },
  {
   "cell_type": "code",
   "execution_count": 73,
   "outputs": [
    {
     "name": "stdout",
     "output_type": "stream",
     "text": [
      "       First_pokemon  Second_pokemon  Winner  First_p_name  \\\n",
      "32823            424             500     424       Groudon   \n",
      "16298            261             426     261       Miltank   \n",
      "28505            353             656     656         Numel   \n",
      "6689             213              83     213       Umbreon   \n",
      "26893            388             203     388  Mega Banette   \n",
      "...              ...             ...     ...           ...   \n",
      "29415            256             388     388       Tyrogue   \n",
      "11359            194             783     783        Mareep   \n",
      "575              568             574     574     Stoutland   \n",
      "17398            365              28      28        Swablu   \n",
      "4189               1             153     153     Bulbasaur   \n",
      "\n",
      "              Second_p_name           Name_Winner  \n",
      "32823            Hippopotas               Groudon  \n",
      "16298              Rayquaza               Miltank  \n",
      "28505             Alomomola             Alomomola  \n",
      "6689                  Golem               Umbreon  \n",
      "26893                Hoppip          Mega Banette  \n",
      "...                     ...                   ...  \n",
      "29415          Mega Banette          Mega Banette  \n",
      "11359  Pumpkaboo Large Size  Pumpkaboo Large Size  \n",
      "575                Simisear              Simisear  \n",
      "17398                Fearow                Fearow  \n",
      "4189               Kabutops              Kabutops  \n",
      "\n",
      "[10000 rows x 6 columns]\n"
     ]
    }
   ],
   "source": [
    "print(prediction_rf)"
   ],
   "metadata": {
    "collapsed": false,
    "pycharm": {
     "name": "#%%\n"
    }
   }
  },
  {
   "cell_type": "markdown",
   "source": [
    "<h2>5. Conclusioni</h2>\n",
    "Task molto interessante e significativo. Sono stati ottenuti ottimi risultati di classificazione con più metodi. I risultati migliori di accuracy ottenuti tramite la Random Forest sono stati soddisfacenti per questo task\n",
    "Abbiamo unicamente inserito le statistiche dei vari pokemon coinvolti nelle battaglie ed il loro status di leggendario, abbiamo ottenuto un' ottimo classificatore da inserire nel pokedex.\n",
    "Da accanito giocatore di pokemon, vincitore della lega di 5 generazioni su 6, catturatore di qualsiasi cosa si muovesse, anima pregante quando si trattava di catturare leggendari, Campione del Parco lotta, sadico schiaffeggiatore di Rosso sul monte Argento e dei vari team di malvagi che per anni si sono illusi di potermi sconfiggere, ho molto apprezzato questo task, sicuramente più stimolante di quello impossibile che il professore di ogni regione ci assegna ad ogni starting del gioco: Acchiappali tutti !\n",
    "\n",
    "L'ampia disponibiltà dei dati stuzzica l'interesse di migliorare i risultati ottenuti, magari avendo maggiore tempo a disposizione per garantire un risultato ottimale, tramite una funzione sarebbe possibile rappresentare le interazioni tra i vari tipi in termini di debolezza,resistenza, immunità e danno super Efficace,con un incrementato maggiore dell'accuracy del nostro classificatore."
   ],
   "metadata": {
    "collapsed": false,
    "pycharm": {
     "name": "#%% md\n"
    }
   }
  }
 ],
 "metadata": {
  "kernelspec": {
   "display_name": "Python 3",
   "language": "python",
   "name": "python3"
  },
  "language_info": {
   "codemirror_mode": {
    "name": "ipython",
    "version": 2
   },
   "file_extension": ".py",
   "mimetype": "text/x-python",
   "name": "python",
   "nbconvert_exporter": "python",
   "pygments_lexer": "ipython2",
   "version": "2.7.6"
  }
 },
 "nbformat": 4,
 "nbformat_minor": 0
}